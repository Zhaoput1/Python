{
 "cells": [
  {
   "cell_type": "code",
   "execution_count": 1,
   "metadata": {},
   "outputs": [],
   "source": [
    "import numpy as np\n",
    "import tensorflow_datasets as tfds\n",
    "import tensorflow as tf\n",
    "tfds.disable_progress_bar()\n",
    "import collections\n",
    "import pathlib\n",
    "import re\n",
    "import string\n",
    "from tensorflow.keras import layers\n",
    "from tensorflow.keras import losses\n",
    "from tensorflow.keras import preprocessing\n",
    "from tensorflow.keras import utils\n",
    "from tensorflow.keras.layers.experimental.preprocessing import TextVectorization\n",
    "import matplotlib.pyplot as plt\n",
    "import tensorflow_text as tf_text\n",
    "from tensorflow import keras"
   ]
  },
  {
   "cell_type": "code",
   "execution_count": 2,
   "metadata": {},
   "outputs": [],
   "source": [
    "tfds.disable_progress_bar()\n",
    "\n",
    "def plot_graphs(history, metric):   #define a function to plot the history graph with accuracy and loss\n",
    "    plt.plot(history.history[metric])\n",
    "    plt.plot(history.history['val_'+metric], '')\n",
    "    plt.xlabel(\"Epochs\")\n",
    "    plt.ylabel(metric)\n",
    "    plt.legend([metric, 'val_'+metric])"
   ]
  },
  {
   "cell_type": "code",
   "execution_count": 3,
   "metadata": {},
   "outputs": [
    {
     "name": "stdout",
     "output_type": "stream",
     "text": [
      "Found 1000 files belonging to 10 classes.\n",
      "Using 800 files for training.\n"
     ]
    }
   ],
   "source": [
    "seed = 42\n",
    "\n",
    "train_dataset = preprocessing.text_dataset_from_directory(\n",
    "    'archive',\n",
    "    validation_split=0.2,\n",
    "    subset='training',\n",
    "    seed=seed)"
   ]
  },
  {
   "cell_type": "code",
   "execution_count": 6,
   "metadata": {},
   "outputs": [
    {
     "name": "stdout",
     "output_type": "stream",
     "text": [
      "Found 1000 files belonging to 10 classes.\n",
      "Using 200 files for validation.\n"
     ]
    }
   ],
   "source": [
    "test_dataset = preprocessing.text_dataset_from_directory(\n",
    "    'archive',\n",
    "    validation_split=.2,\n",
    "    subset='validation',\n",
    "    seed=seed)"
   ]
  },
  {
   "cell_type": "code",
   "execution_count": 7,
   "metadata": {},
   "outputs": [],
   "source": [
    "import tensorflow_hub as hub\n",
    "\n",
    "embed = hub.load(\"https://tfhub.dev/google/Wiki-words-500-with-normalization/2\")\n"
   ]
  },
  {
   "cell_type": "code",
   "execution_count": 8,
   "metadata": {},
   "outputs": [],
   "source": [
    "hub_layer = hub.KerasLayer(embed, input_shape=[], dtype=tf.string)\n"
   ]
  },
  {
   "cell_type": "code",
   "execution_count": 9,
   "metadata": {},
   "outputs": [],
   "source": [
    "model = tf.keras.Sequential([\n",
    "    hub_layer,\n",
    "    tf.keras.layers.Dense(64, activation='relu'),\n",
    "    tf.keras.layers.Dense(10, activation='softmax')\n",
    "])"
   ]
  },
  {
   "cell_type": "code",
   "execution_count": 10,
   "metadata": {},
   "outputs": [],
   "source": [
    "model.compile(loss='sparse_categorical_crossentropy',\n",
    "              optimizer=tf.keras.optimizers.Adam(learning_rate=0.001),\n",
    "              metrics=['accuracy'])\n",
    "earlystopping_cb = keras.callbacks.EarlyStopping (patience=10, restore_best_weights=True) # set callbacks"
   ]
  },
  {
   "cell_type": "code",
   "execution_count": null,
   "metadata": {
    "scrolled": true
   },
   "outputs": [
    {
     "name": "stdout",
     "output_type": "stream",
     "text": [
      "Epoch 1/50\n",
      "25/25 [==============================] - 5s 212ms/step - loss: 1.9421 - accuracy: 0.3938 - val_loss: 1.5925 - val_accuracy: 0.5813\n",
      "Epoch 2/50\n",
      "25/25 [==============================] - 3s 137ms/step - loss: 1.2815 - accuracy: 0.7437 - val_loss: 1.0818 - val_accuracy: 0.7750\n",
      "Epoch 3/50\n",
      "25/25 [==============================] - 5s 217ms/step - loss: 0.9200 - accuracy: 0.8250 - val_loss: 0.8420 - val_accuracy: 0.8687\n",
      "Epoch 4/50\n",
      "25/25 [==============================] - 3s 127ms/step - loss: 0.7209 - accuracy: 0.8512 - val_loss: 0.6843 - val_accuracy: 0.8625\n",
      "Epoch 5/50\n",
      "25/25 [==============================] - 3s 118ms/step - loss: 0.5831 - accuracy: 0.8825 - val_loss: 0.5486 - val_accuracy: 0.8938\n",
      "Epoch 6/50\n",
      "25/25 [==============================] - 3s 126ms/step - loss: 0.4859 - accuracy: 0.9125 - val_loss: 0.4815 - val_accuracy: 0.9250\n",
      "Epoch 7/50\n",
      "25/25 [==============================] - 3s 124ms/step - loss: 0.4222 - accuracy: 0.9237 - val_loss: 0.4295 - val_accuracy: 0.9375\n",
      "Epoch 8/50\n",
      "25/25 [==============================] - 3s 119ms/step - loss: 0.3596 - accuracy: 0.9388 - val_loss: 0.3793 - val_accuracy: 0.9312\n",
      "Epoch 9/50\n",
      "25/25 [==============================] - 0s 11ms/step - loss: 0.3161 - accuracy: 0.9475 - val_loss: 0.4062 - val_accuracy: 0.9250\n",
      "Epoch 10/50\n",
      "25/25 [==============================] - 5s 200ms/step - loss: 0.2911 - accuracy: 0.9463 - val_loss: 0.3400 - val_accuracy: 0.9312\n",
      "Epoch 11/50\n",
      "25/25 [==============================] - 0s 12ms/step - loss: 0.2573 - accuracy: 0.9513 - val_loss: 0.3412 - val_accuracy: 0.9312\n",
      "Epoch 12/50\n",
      "25/25 [==============================] - 3s 124ms/step - loss: 0.2385 - accuracy: 0.9500 - val_loss: 0.3375 - val_accuracy: 0.9312\n",
      "Epoch 13/50\n",
      "25/25 [==============================] - 3s 117ms/step - loss: 0.2375 - accuracy: 0.9475 - val_loss: 0.3312 - val_accuracy: 0.9375\n",
      "Epoch 14/50\n",
      "25/25 [==============================] - 3s 127ms/step - loss: 0.2078 - accuracy: 0.9638 - val_loss: 0.2924 - val_accuracy: 0.9375\n",
      "Epoch 15/50\n",
      "25/25 [==============================] - 3s 119ms/step - loss: 0.1878 - accuracy: 0.9638 - val_loss: 0.2599 - val_accuracy: 0.9500\n",
      "Epoch 16/50\n",
      "25/25 [==============================] - 0s 11ms/step - loss: 0.1833 - accuracy: 0.9600 - val_loss: 0.2622 - val_accuracy: 0.9312\n",
      "Epoch 17/50\n",
      "25/25 [==============================] - 0s 10ms/step - loss: 0.1714 - accuracy: 0.9688 - val_loss: 0.2885 - val_accuracy: 0.9187\n",
      "Epoch 18/50\n",
      "25/25 [==============================] - 6s 220ms/step - loss: 0.1600 - accuracy: 0.9725 - val_loss: 0.2122 - val_accuracy: 0.9500\n",
      "Epoch 19/50\n",
      "25/25 [==============================] - 0s 10ms/step - loss: 0.1560 - accuracy: 0.9663 - val_loss: 0.2326 - val_accuracy: 0.9500\n",
      "Epoch 20/50\n",
      "25/25 [==============================] - 4s 171ms/step - loss: 0.1459 - accuracy: 0.9737 - val_loss: 0.2079 - val_accuracy: 0.9500\n",
      "Epoch 21/50\n",
      "25/25 [==============================] - 5s 186ms/step - loss: 0.1287 - accuracy: 0.9800 - val_loss: 0.1982 - val_accuracy: 0.9312\n",
      "Epoch 22/50\n",
      "25/25 [==============================] - 0s 9ms/step - loss: 0.1183 - accuracy: 0.9800 - val_loss: 0.2277 - val_accuracy: 0.9312\n",
      "Epoch 23/50\n",
      "25/25 [==============================] - 0s 10ms/step - loss: 0.1123 - accuracy: 0.9862 - val_loss: 0.2033 - val_accuracy: 0.9625\n",
      "Epoch 24/50\n",
      "25/25 [==============================] - 3s 125ms/step - loss: 0.1119 - accuracy: 0.9825 - val_loss: 0.1893 - val_accuracy: 0.9375\n",
      "Epoch 25/50\n",
      "25/25 [==============================] - 0s 10ms/step - loss: 0.1012 - accuracy: 0.9837 - val_loss: 0.2292 - val_accuracy: 0.9375\n",
      "Epoch 26/50\n",
      "25/25 [==============================] - 3s 116ms/step - loss: 0.1000 - accuracy: 0.9862 - val_loss: 0.1691 - val_accuracy: 0.9438\n",
      "Epoch 27/50\n",
      "25/25 [==============================] - 0s 11ms/step - loss: 0.0929 - accuracy: 0.9862 - val_loss: 0.2297 - val_accuracy: 0.9375\n",
      "Epoch 28/50\n",
      "25/25 [==============================] - 0s 10ms/step - loss: 0.0996 - accuracy: 0.9825 - val_loss: 0.2848 - val_accuracy: 0.9187\n",
      "Epoch 29/50\n",
      "25/25 [==============================] - 0s 10ms/step - loss: 0.0915 - accuracy: 0.9887 - val_loss: 0.2179 - val_accuracy: 0.9375\n",
      "Epoch 30/50\n",
      "25/25 [==============================] - 0s 9ms/step - loss: 0.0840 - accuracy: 0.9875 - val_loss: 0.2269 - val_accuracy: 0.9438\n",
      "Epoch 31/50\n",
      "25/25 [==============================] - 0s 13ms/step - loss: 0.0760 - accuracy: 0.9900 - val_loss: 0.2295 - val_accuracy: 0.9312\n",
      "Epoch 32/50\n",
      "25/25 [==============================] - 0s 10ms/step - loss: 0.0770 - accuracy: 0.9862 - val_loss: 0.2466 - val_accuracy: 0.9438\n",
      "Epoch 33/50\n",
      "25/25 [==============================] - 0s 10ms/step - loss: 0.0739 - accuracy: 0.9900 - val_loss: 0.2488 - val_accuracy: 0.9375\n",
      "Epoch 34/50\n",
      "22/25 [=========================>....] - ETA: 0s - loss: 0.0669 - accuracy: 0.9943"
     ]
    }
   ],
   "source": [
    "history = model.fit(train_dataset, epochs=50,\n",
    "                    validation_data=test_dataset, \n",
    "                    validation_steps=5,\n",
    "                    callbacks=earlystopping_cb)"
   ]
  },
  {
   "cell_type": "code",
   "execution_count": null,
   "metadata": {},
   "outputs": [],
   "source": [
    "test_loss, test_acc = model.evaluate(test_dataset) \n",
    "\n",
    "print('Test Loss: {}'.format(test_loss))\n",
    "print('Test Accuracy: {}'.format(test_acc))"
   ]
  },
  {
   "cell_type": "code",
   "execution_count": null,
   "metadata": {},
   "outputs": [],
   "source": [
    "plt.figure(figsize=(16,8)) \n",
    "plt.subplot(1,2,1)\n",
    "plot_graphs(history, 'accuracy')\n",
    "plt.ylim(None,1)\n",
    "plt.subplot(1,2,2)\n",
    "plot_graphs(history, 'loss')\n",
    "plt.ylim(0,None)"
   ]
  },
  {
   "cell_type": "code",
   "execution_count": null,
   "metadata": {},
   "outputs": [],
   "source": []
  }
 ],
 "metadata": {
  "kernelspec": {
   "display_name": "Python 3",
   "language": "python",
   "name": "python3"
  },
  "language_info": {
   "codemirror_mode": {
    "name": "ipython",
    "version": 3
   },
   "file_extension": ".py",
   "mimetype": "text/x-python",
   "name": "python",
   "nbconvert_exporter": "python",
   "pygments_lexer": "ipython3",
   "version": "3.8.3"
  }
 },
 "nbformat": 4,
 "nbformat_minor": 4
}
