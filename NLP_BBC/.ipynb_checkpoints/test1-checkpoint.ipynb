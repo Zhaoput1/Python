{
 "cells": [
  {
   "cell_type": "code",
   "execution_count": 26,
   "metadata": {},
   "outputs": [],
   "source": [
    "import numpy as np\n",
    "import tensorflow_datasets as tfds\n",
    "import tensorflow as tf\n",
    "tfds.disable_progress_bar()\n",
    "import collections\n",
    "import pathlib\n",
    "import re\n",
    "import string\n",
    "from tensorflow.keras import layers\n",
    "from tensorflow.keras import losses\n",
    "from tensorflow.keras import preprocessing\n",
    "from tensorflow.keras import utils\n",
    "from tensorflow.keras.layers.experimental.preprocessing import TextVectorization\n",
    "import matplotlib.pyplot as plt\n",
    "import tensorflow_text as tf_text\n",
    "from tensorflow import keras"
   ]
  },
  {
   "cell_type": "code",
   "execution_count": 71,
   "metadata": {},
   "outputs": [],
   "source": [
    "tfds.disable_progress_bar()\n",
    "\n",
    "\n",
    "def plot_graphs(history, metric):\n",
    "  plt.plot(history.history[metric])\n",
    "  plt.plot(history.history['val_'+metric], '')\n",
    "  plt.xlabel(\"Epochs\")\n",
    "  plt.ylabel(metric)\n",
    "  plt.legend([metric, 'val_'+metric])"
   ]
  },
  {
   "cell_type": "code",
   "execution_count": 72,
   "metadata": {},
   "outputs": [],
   "source": [
    "dataset_dir = pathlib.Path(dataset).parent"
   ]
  },
  {
   "cell_type": "code",
   "execution_count": 73,
   "metadata": {},
   "outputs": [
    {
     "data": {
      "text/plain": [
       "[PosixPath('/Users/zhaoput/.keras/datasets/.DS_Store'),\n",
       " PosixPath('/Users/zhaoput/.keras/datasets/bbc')]"
      ]
     },
     "execution_count": 73,
     "metadata": {},
     "output_type": "execute_result"
    }
   ],
   "source": [
    "list(dataset_dir.iterdir())"
   ]
  },
  {
   "cell_type": "code",
   "execution_count": 74,
   "metadata": {},
   "outputs": [],
   "source": [
    "data_dir = dataset_dir/'bbc'"
   ]
  },
  {
   "cell_type": "code",
   "execution_count": 76,
   "metadata": {},
   "outputs": [
    {
     "data": {
      "text/plain": [
       "[PosixPath('/Users/zhaoput/.keras/datasets/bbc/entertainment'),\n",
       " PosixPath('/Users/zhaoput/.keras/datasets/bbc/business'),\n",
       " PosixPath('/Users/zhaoput/.keras/datasets/bbc/sport'),\n",
       " PosixPath('/Users/zhaoput/.keras/datasets/bbc/politics'),\n",
       " PosixPath('/Users/zhaoput/.keras/datasets/bbc/README.TXT'),\n",
       " PosixPath('/Users/zhaoput/.keras/datasets/bbc/tech')]"
      ]
     },
     "execution_count": 76,
     "metadata": {},
     "output_type": "execute_result"
    }
   ],
   "source": [
    "list(data_dir.iterdir())"
   ]
  },
  {
   "cell_type": "code",
   "execution_count": 65,
   "metadata": {},
   "outputs": [
    {
     "name": "stdout",
     "output_type": "stream",
     "text": [
      "Found 2225 files belonging to 5 classes.\n",
      "Using 1335 files for training.\n"
     ]
    }
   ],
   "source": [
    "#batch_size = 32\n",
    "seed = 42\n",
    "\n",
    "raw_data_ds = preprocessing.text_dataset_from_directory(\n",
    "    data_dir,\n",
    "#    batch_size=batch_size,\n",
    "    validation_split=0.4,\n",
    "    subset='training',\n",
    "    seed=seed)"
   ]
  },
  {
   "cell_type": "code",
   "execution_count": 70,
   "metadata": {},
   "outputs": [
    {
     "name": "stdout",
     "output_type": "stream",
     "text": [
      "Question:  b\"US actor 'found with gun residue'\\n\\nActor Robert Blake had gunshot residue on his hands and clothes t\" ...\n",
      "Label: 1\n",
      "Question:  b\"Campaign 'cold calls' questioned\\n\\nLabour and the Conservatives are still telephoning the millions of\" ...\n",
      "Label: 2\n"
     ]
    }
   ],
   "source": [
    "for text_batch, label_batch in raw_data_ds.take(1):\n",
    "  for i in range(2):\n",
    "    print(\"Question: \", text_batch.numpy()[i][:100], '...')\n",
    "    print(\"Label:\", label_batch.numpy()[i])"
   ]
  },
  {
   "cell_type": "code",
   "execution_count": 68,
   "metadata": {},
   "outputs": [
    {
     "name": "stdout",
     "output_type": "stream",
     "text": [
      "Found 2225 files belonging to 5 classes.\n",
      "Using 890 files for validation.\n"
     ]
    }
   ],
   "source": [
    "raw_test_ds = preprocessing.text_dataset_from_directory(\n",
    "    data_dir,\n",
    "#    batch_size=batch_size,\n",
    "    validation_split=0.4,\n",
    "    subset='validation',\n",
    "    seed=seed)"
   ]
  },
  {
   "cell_type": "code",
   "execution_count": null,
   "metadata": {},
   "outputs": [],
   "source": [
    "train, test = "
   ]
  }
 ],
 "metadata": {
  "kernelspec": {
   "display_name": "Python 3",
   "language": "python",
   "name": "python3"
  },
  "language_info": {
   "codemirror_mode": {
    "name": "ipython",
    "version": 3
   },
   "file_extension": ".py",
   "mimetype": "text/x-python",
   "name": "python",
   "nbconvert_exporter": "python",
   "pygments_lexer": "ipython3",
   "version": "3.8.3"
  }
 },
 "nbformat": 4,
 "nbformat_minor": 4
}
