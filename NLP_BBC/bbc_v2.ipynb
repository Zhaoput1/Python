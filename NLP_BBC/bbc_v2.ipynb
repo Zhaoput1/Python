{
 "cells": [
  {
   "cell_type": "code",
   "execution_count": 1,
   "metadata": {},
   "outputs": [],
   "source": [
    "import numpy as np\n",
    "import tensorflow_datasets as tfds\n",
    "import tensorflow as tf\n",
    "tfds.disable_progress_bar()\n",
    "import collections\n",
    "import pathlib\n",
    "import re\n",
    "import string\n",
    "from tensorflow.keras import layers\n",
    "from tensorflow.keras import losses\n",
    "from tensorflow.keras import preprocessing\n",
    "from tensorflow.keras import utils\n",
    "from tensorflow.keras.layers.experimental.preprocessing import TextVectorization\n",
    "import matplotlib.pyplot as plt\n",
    "import tensorflow_text as tf_text\n",
    "from tensorflow import keras"
   ]
  },
  {
   "cell_type": "code",
   "execution_count": 2,
   "metadata": {},
   "outputs": [],
   "source": [
    "tfds.disable_progress_bar()\n",
    "\n",
    "\n",
    "def plot_graphs(history, metric):   #define a function to plot the history graph with accuracy and loss\n",
    "    plt.plot(history.history[metric])\n",
    "    plt.plot(history.history['val_'+metric], '')\n",
    "    plt.xlabel(\"Epochs\")\n",
    "    plt.ylabel(metric)\n",
    "    plt.legend([metric, 'val_'+metric])"
   ]
  },
  {
   "cell_type": "code",
   "execution_count": 3,
   "metadata": {},
   "outputs": [
    {
     "name": "stdout",
     "output_type": "stream",
     "text": [
      "Found 2225 files belonging to 5 classes.\n",
      "Using 1780 files for training.\n"
     ]
    }
   ],
   "source": [
    "#batch_size = 32\n",
    "seed = 42  #set seed\n",
    "\n",
    "train_dataset = preprocessing.text_dataset_from_directory(\n",
    "    'bbc', \n",
    "#    batch_size=batch_size,\n",
    "    validation_split=0.2,\n",
    "    subset='training',\n",
    "    seed=seed)"
   ]
  },
  {
   "cell_type": "code",
   "execution_count": 4,
   "metadata": {},
   "outputs": [
    {
     "name": "stdout",
     "output_type": "stream",
     "text": [
      "Found 2225 files belonging to 5 classes.\n",
      "Using 445 files for validation.\n"
     ]
    }
   ],
   "source": [
    "test_dataset = preprocessing.text_dataset_from_directory(\n",
    "    'bbc',\n",
    "#    batch_size=batch_size,\n",
    "    validation_split=.2,\n",
    "    subset='validation',\n",
    "    seed=seed)"
   ]
  },
  {
   "cell_type": "code",
   "execution_count": 5,
   "metadata": {},
   "outputs": [],
   "source": [
    "VOCAB_SIZE=10000 \n",
    "encoder = tf.keras.layers.experimental.preprocessing.TextVectorization(\n",
    "    max_tokens=VOCAB_SIZE)\n",
    "encoder.adapt(train_dataset.map(lambda text, label: text))"
   ]
  },
  {
   "cell_type": "code",
   "execution_count": 6,
   "metadata": {},
   "outputs": [],
   "source": [
    "vocab = np.array(encoder.get_vocabulary())"
   ]
  },
  {
   "cell_type": "code",
   "execution_count": 7,
   "metadata": {},
   "outputs": [],
   "source": [
    "model = tf.keras.Sequential([\n",
    "    encoder,\n",
    "    tf.keras.layers.Embedding(\n",
    "        input_dim=len(encoder.get_vocabulary()),\n",
    "        output_dim=128,\n",
    "        # Use masking to handle the variable sequence lengths\n",
    "        mask_zero=True),\n",
    "    tf.keras.layers.Bidirectional(tf.keras.layers.LSTM(64)),\n",
    "    tf.keras.layers.Dense(128, activation='relu'),\n",
    "    tf.keras.layers.Dense(5, activation='softmax')\n",
    "])"
   ]
  },
  {
   "cell_type": "code",
   "execution_count": 8,
   "metadata": {},
   "outputs": [],
   "source": [
    "model.compile(loss='sparse_categorical_crossentropy',\n",
    "              optimizer=tf.keras.optimizers.Adam(learning_rate=0.001),\n",
    "              metrics=['accuracy'])"
   ]
  },
  {
   "cell_type": "code",
   "execution_count": 9,
   "metadata": {},
   "outputs": [],
   "source": [
    "earlystopping_cb = keras.callbacks.EarlyStopping (patience=10, restore_best_weights=True) # set callbacks"
   ]
  },
  {
   "cell_type": "code",
   "execution_count": 10,
   "metadata": {
    "scrolled": true
   },
   "outputs": [
    {
     "name": "stdout",
     "output_type": "stream",
     "text": [
      "Epoch 1/50\n",
      "56/56 [==============================] - 43s 768ms/step - loss: 1.4628 - accuracy: 0.4051 - val_loss: 0.9432 - val_accuracy: 0.7125\n",
      "Epoch 2/50\n",
      "56/56 [==============================] - 46s 814ms/step - loss: 0.3941 - accuracy: 0.9225 - val_loss: 0.1909 - val_accuracy: 0.9438\n",
      "Epoch 3/50\n",
      "56/56 [==============================] - 52s 930ms/step - loss: 0.0390 - accuracy: 0.9904 - val_loss: 0.1534 - val_accuracy: 0.9531\n",
      "Epoch 4/50\n",
      "56/56 [==============================] - 52s 924ms/step - loss: 0.0048 - accuracy: 0.9989 - val_loss: 0.1584 - val_accuracy: 0.9469\n",
      "Epoch 5/50\n",
      "56/56 [==============================] - 53s 944ms/step - loss: 0.0012 - accuracy: 1.0000 - val_loss: 0.1620 - val_accuracy: 0.9531\n",
      "Epoch 6/50\n",
      "56/56 [==============================] - 54s 963ms/step - loss: 4.6325e-04 - accuracy: 1.0000 - val_loss: 0.2111 - val_accuracy: 0.9438\n",
      "Epoch 7/50\n",
      "56/56 [==============================] - 48s 862ms/step - loss: 3.0465e-04 - accuracy: 1.0000 - val_loss: 0.1411 - val_accuracy: 0.9656\n",
      "Epoch 8/50\n",
      "56/56 [==============================] - 51s 911ms/step - loss: 2.2356e-04 - accuracy: 1.0000 - val_loss: 0.1470 - val_accuracy: 0.9563\n",
      "Epoch 9/50\n",
      "56/56 [==============================] - 52s 922ms/step - loss: 1.7348e-04 - accuracy: 1.0000 - val_loss: 0.1969 - val_accuracy: 0.9625\n",
      "Epoch 10/50\n",
      "56/56 [==============================] - 51s 910ms/step - loss: 1.3924e-04 - accuracy: 1.0000 - val_loss: 0.1405 - val_accuracy: 0.9656\n",
      "Epoch 11/50\n",
      "56/56 [==============================] - 53s 943ms/step - loss: 1.1487e-04 - accuracy: 1.0000 - val_loss: 0.1528 - val_accuracy: 0.9625\n",
      "Epoch 12/50\n",
      "56/56 [==============================] - 50s 892ms/step - loss: 0.0272 - accuracy: 0.9966 - val_loss: 0.1323 - val_accuracy: 0.9563\n",
      "Epoch 13/50\n",
      "56/56 [==============================] - 51s 915ms/step - loss: 0.0017 - accuracy: 1.0000 - val_loss: 0.2280 - val_accuracy: 0.9563\n",
      "Epoch 14/50\n",
      "56/56 [==============================] - 51s 912ms/step - loss: 4.2402e-04 - accuracy: 1.0000 - val_loss: 0.2095 - val_accuracy: 0.9656\n",
      "Epoch 15/50\n",
      "56/56 [==============================] - 51s 914ms/step - loss: 2.7589e-04 - accuracy: 1.0000 - val_loss: 0.2266 - val_accuracy: 0.9625\n",
      "Epoch 16/50\n",
      "56/56 [==============================] - 52s 930ms/step - loss: 2.0733e-04 - accuracy: 1.0000 - val_loss: 0.2136 - val_accuracy: 0.9594\n",
      "Epoch 17/50\n",
      "56/56 [==============================] - 43s 762ms/step - loss: 1.6422e-04 - accuracy: 1.0000 - val_loss: 0.2565 - val_accuracy: 0.9563\n",
      "Epoch 18/50\n",
      "56/56 [==============================] - 38s 685ms/step - loss: 1.3438e-04 - accuracy: 1.0000 - val_loss: 0.2847 - val_accuracy: 0.9531\n",
      "Epoch 19/50\n",
      "56/56 [==============================] - 38s 683ms/step - loss: 1.1271e-04 - accuracy: 1.0000 - val_loss: 0.2563 - val_accuracy: 0.9563\n",
      "Epoch 20/50\n",
      "56/56 [==============================] - 40s 714ms/step - loss: 9.6445e-05 - accuracy: 1.0000 - val_loss: 0.2622 - val_accuracy: 0.9563\n",
      "Epoch 21/50\n",
      "56/56 [==============================] - 39s 695ms/step - loss: 8.3673e-05 - accuracy: 1.0000 - val_loss: 0.2807 - val_accuracy: 0.9594\n",
      "Epoch 22/50\n",
      "56/56 [==============================] - 39s 698ms/step - loss: 7.3550e-05 - accuracy: 1.0000 - val_loss: 0.2330 - val_accuracy: 0.9594\n"
     ]
    }
   ],
   "source": [
    "history = model.fit(train_dataset, epochs=50,\n",
    "                    validation_data=test_dataset, \n",
    "                    validation_steps=10,\n",
    "                    callbacks=earlystopping_cb)"
   ]
  },
  {
   "cell_type": "code",
   "execution_count": 11,
   "metadata": {},
   "outputs": [
    {
     "name": "stdout",
     "output_type": "stream",
     "text": [
      "14/14 [==============================] - 1s 90ms/step - loss: 0.1577 - accuracy: 0.9573\n",
      "Test Loss: 0.15773524343967438\n",
      "Test Accuracy: 0.9573033452033997\n"
     ]
    }
   ],
   "source": [
    "test_loss, test_acc = model.evaluate(test_dataset) #result evaluation \n",
    "\n",
    "print('Test Loss: {}'.format(test_loss))\n",
    "print('Test Accuracy: {}'.format(test_acc))"
   ]
  },
  {
   "cell_type": "code",
   "execution_count": 12,
   "metadata": {},
   "outputs": [
    {
     "data": {
      "text/plain": [
       "(0.0, 1.535943359227531)"
      ]
     },
     "execution_count": 12,
     "metadata": {},
     "output_type": "execute_result"
    },
    {
     "data": {
      "image/png": "[encoded data removed]",
      "text/plain": [
       "<Figure size 1152x576 with 2 Axes>"
      ]
     },
     "metadata": {
      "needs_background": "light"
     },
     "output_type": "display_data"
    }
   ],
   "source": [
    "plt.figure(figsize=(16,8))\n",
    "plt.subplot(1,2,1)\n",
    "plot_graphs(history, 'accuracy')\n",
    "plt.ylim(None,1)\n",
    "plt.subplot(1,2,2)\n",
    "plot_graphs(history, 'loss')\n",
    "plt.ylim(0,None)"
   ]
  },
  {
   "cell_type": "code",
   "execution_count": null,
   "metadata": {},
   "outputs": [],
   "source": []
  }
 ],
 "metadata": {
  "kernelspec": {
   "display_name": "Python 3",
   "language": "python",
   "name": "python3"
  },
  "language_info": {
   "codemirror_mode": {
    "name": "ipython",
    "version": 3
   },
   "file_extension": ".py",
   "mimetype": "text/x-python",
   "name": "python",
   "nbconvert_exporter": "python",
   "pygments_lexer": "ipython3",
   "version": "3.8.3"
  }
 },
 "nbformat": 4,
 "nbformat_minor": 4
}
