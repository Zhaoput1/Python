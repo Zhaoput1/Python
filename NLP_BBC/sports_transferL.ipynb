{
 "cells": [
  {
   "cell_type": "code",
   "execution_count": 1,
   "metadata": {},
   "outputs": [],
   "source": [
    "import numpy as np\n",
    "import tensorflow_datasets as tfds\n",
    "import tensorflow as tf\n",
    "tfds.disable_progress_bar()\n",
    "import collections\n",
    "import pathlib\n",
    "import re\n",
    "import string\n",
    "from tensorflow.keras import layers\n",
    "from tensorflow.keras import losses\n",
    "from tensorflow.keras import preprocessing\n",
    "from tensorflow.keras import utils\n",
    "from tensorflow.keras.layers.experimental.preprocessing import TextVectorization\n",
    "import matplotlib.pyplot as plt\n",
    "import tensorflow_text as tf_text\n",
    "from tensorflow import keras"
   ]
  },
  {
   "cell_type": "code",
   "execution_count": 2,
   "metadata": {},
   "outputs": [],
   "source": [
    "tfds.disable_progress_bar()\n",
    "\n",
    "def plot_graphs(history, metric):   #define a function to plot the history graph with accuracy and loss\n",
    "    plt.plot(history.history[metric])\n",
    "    plt.plot(history.history['val_'+metric], '')\n",
    "    plt.xlabel(\"Epochs\")\n",
    "    plt.ylabel(metric)\n",
    "    plt.legend([metric, 'val_'+metric])"
   ]
  },
  {
   "cell_type": "code",
   "execution_count": 3,
   "metadata": {},
   "outputs": [
    {
     "name": "stdout",
     "output_type": "stream",
     "text": [
      "Found 737 files belonging to 5 classes.\n",
      "Using 590 files for training.\n"
     ]
    }
   ],
   "source": [
    "seed = 42\n",
    "\n",
    "train_dataset = preprocessing.text_dataset_from_directory(\n",
    "    'bbcsport',\n",
    "    validation_split=0.2,\n",
    "    subset='training',\n",
    "    seed=seed)"
   ]
  },
  {
   "cell_type": "code",
   "execution_count": 4,
   "metadata": {},
   "outputs": [
    {
     "name": "stdout",
     "output_type": "stream",
     "text": [
      "Found 737 files belonging to 5 classes.\n",
      "Using 147 files for validation.\n"
     ]
    }
   ],
   "source": [
    "test_dataset = preprocessing.text_dataset_from_directory(\n",
    "    'bbcsport',\n",
    "    validation_split=.2,\n",
    "    subset='validation',\n",
    "    seed=seed)"
   ]
  },
  {
   "cell_type": "code",
   "execution_count": 5,
   "metadata": {},
   "outputs": [],
   "source": [
    "import tensorflow_hub as hub\n",
    "\n",
    "embed = hub.load(\"https://tfhub.dev/google/Wiki-words-500-with-normalization/2\")\n"
   ]
  },
  {
   "cell_type": "code",
   "execution_count": 6,
   "metadata": {},
   "outputs": [],
   "source": [
    "hub_layer = hub.KerasLayer(embed, input_shape=[], dtype=tf.string)\n"
   ]
  },
  {
   "cell_type": "code",
   "execution_count": 7,
   "metadata": {},
   "outputs": [],
   "source": [
    "model = tf.keras.Sequential([\n",
    "    hub_layer,\n",
    "    tf.keras.layers.Dense(64, activation='relu'),\n",
    "    tf.keras.layers.Dense(5, activation='softmax')\n",
    "])"
   ]
  },
  {
   "cell_type": "code",
   "execution_count": 8,
   "metadata": {},
   "outputs": [],
   "source": [
    "model.compile(loss='sparse_categorical_crossentropy',\n",
    "              optimizer=tf.keras.optimizers.Adam(learning_rate=0.001),\n",
    "              metrics=['accuracy'])\n",
    "earlystopping_cb = keras.callbacks.EarlyStopping (patience=10, restore_best_weights=True) # set callbacks"
   ]
  },
  {
   "cell_type": "code",
   "execution_count": 9,
   "metadata": {
    "scrolled": true
   },
   "outputs": [
    {
     "name": "stdout",
     "output_type": "stream",
     "text": [
      "Epoch 1/50\n",
      "19/19 [==============================] - 3s 137ms/step - loss: 1.4416 - accuracy: 0.4034 - val_loss: 1.3144 - val_accuracy: 0.4422\n",
      "Epoch 2/50\n",
      "19/19 [==============================] - 5s 242ms/step - loss: 1.2125 - accuracy: 0.5542 - val_loss: 1.1172 - val_accuracy: 0.4830\n",
      "Epoch 3/50\n",
      "19/19 [==============================] - 2s 126ms/step - loss: 1.0419 - accuracy: 0.6661 - val_loss: 0.9670 - val_accuracy: 0.5850\n",
      "Epoch 4/50\n",
      "19/19 [==============================] - 2s 118ms/step - loss: 0.8556 - accuracy: 0.7661 - val_loss: 0.8282 - val_accuracy: 0.7143\n",
      "Epoch 5/50\n",
      "19/19 [==============================] - 2s 122ms/step - loss: 0.7215 - accuracy: 0.8356 - val_loss: 0.6897 - val_accuracy: 0.8571\n",
      "Epoch 6/50\n",
      "19/19 [==============================] - 3s 148ms/step - loss: 0.6131 - accuracy: 0.8559 - val_loss: 0.5896 - val_accuracy: 0.9252\n",
      "Epoch 7/50\n",
      "19/19 [==============================] - 3s 142ms/step - loss: 0.5224 - accuracy: 0.9136 - val_loss: 0.5225 - val_accuracy: 0.8980\n",
      "Epoch 8/50\n",
      "19/19 [==============================] - 3s 146ms/step - loss: 0.4507 - accuracy: 0.9271 - val_loss: 0.4634 - val_accuracy: 0.8776\n",
      "Epoch 9/50\n",
      "19/19 [==============================] - 3s 147ms/step - loss: 0.3881 - accuracy: 0.9424 - val_loss: 0.4066 - val_accuracy: 0.9320\n",
      "Epoch 10/50\n",
      "19/19 [==============================] - 3s 137ms/step - loss: 0.3472 - accuracy: 0.9424 - val_loss: 0.3633 - val_accuracy: 0.9252\n",
      "Epoch 11/50\n",
      "19/19 [==============================] - 2s 128ms/step - loss: 0.3065 - accuracy: 0.9492 - val_loss: 0.3257 - val_accuracy: 0.9524\n",
      "Epoch 12/50\n",
      "19/19 [==============================] - 2s 126ms/step - loss: 0.2745 - accuracy: 0.9542 - val_loss: 0.3017 - val_accuracy: 0.9524\n",
      "Epoch 13/50\n",
      "19/19 [==============================] - 3s 135ms/step - loss: 0.2501 - accuracy: 0.9695 - val_loss: 0.2685 - val_accuracy: 0.9592\n",
      "Epoch 14/50\n",
      "19/19 [==============================] - 3s 133ms/step - loss: 0.2268 - accuracy: 0.9661 - val_loss: 0.2576 - val_accuracy: 0.9592\n",
      "Epoch 15/50\n",
      "19/19 [==============================] - 2s 130ms/step - loss: 0.2090 - accuracy: 0.9695 - val_loss: 0.2258 - val_accuracy: 0.9660\n",
      "Epoch 16/50\n",
      "19/19 [==============================] - 3s 133ms/step - loss: 0.1844 - accuracy: 0.9780 - val_loss: 0.2178 - val_accuracy: 0.9592\n",
      "Epoch 17/50\n",
      "19/19 [==============================] - 2s 130ms/step - loss: 0.1735 - accuracy: 0.9763 - val_loss: 0.1995 - val_accuracy: 0.9660\n",
      "Epoch 18/50\n",
      "19/19 [==============================] - 3s 135ms/step - loss: 0.1641 - accuracy: 0.9814 - val_loss: 0.1820 - val_accuracy: 0.9660\n",
      "Epoch 19/50\n",
      "19/19 [==============================] - 3s 132ms/step - loss: 0.1495 - accuracy: 0.9847 - val_loss: 0.1776 - val_accuracy: 0.9660\n",
      "Epoch 20/50\n",
      "19/19 [==============================] - 3s 135ms/step - loss: 0.1442 - accuracy: 0.9831 - val_loss: 0.1726 - val_accuracy: 0.9592\n",
      "Epoch 21/50\n",
      "19/19 [==============================] - 3s 136ms/step - loss: 0.1340 - accuracy: 0.9814 - val_loss: 0.1540 - val_accuracy: 0.9660\n",
      "Epoch 22/50\n",
      "19/19 [==============================] - 3s 136ms/step - loss: 0.1232 - accuracy: 0.9847 - val_loss: 0.1441 - val_accuracy: 0.9728\n",
      "Epoch 23/50\n",
      "19/19 [==============================] - 2s 127ms/step - loss: 0.1184 - accuracy: 0.9864 - val_loss: 0.1378 - val_accuracy: 0.9660\n",
      "Epoch 24/50\n",
      "19/19 [==============================] - 2s 131ms/step - loss: 0.1018 - accuracy: 0.9847 - val_loss: 0.1357 - val_accuracy: 0.9728\n",
      "Epoch 25/50\n",
      "19/19 [==============================] - 3s 134ms/step - loss: 0.1013 - accuracy: 0.9864 - val_loss: 0.1244 - val_accuracy: 0.9660\n",
      "Epoch 26/50\n",
      "19/19 [==============================] - 3s 135ms/step - loss: 0.0930 - accuracy: 0.9898 - val_loss: 0.1186 - val_accuracy: 0.9796\n",
      "Epoch 27/50\n",
      "19/19 [==============================] - 0s 8ms/step - loss: 0.0887 - accuracy: 0.9881 - val_loss: 0.1237 - val_accuracy: 0.9728\n",
      "Epoch 28/50\n",
      "19/19 [==============================] - 2s 127ms/step - loss: 0.0876 - accuracy: 0.9864 - val_loss: 0.1131 - val_accuracy: 0.9728\n",
      "Epoch 29/50\n",
      "19/19 [==============================] - 3s 134ms/step - loss: 0.0775 - accuracy: 0.9932 - val_loss: 0.1053 - val_accuracy: 0.9796\n",
      "Epoch 30/50\n",
      "19/19 [==============================] - 3s 136ms/step - loss: 0.0728 - accuracy: 0.9915 - val_loss: 0.1015 - val_accuracy: 0.9728\n",
      "Epoch 31/50\n",
      "19/19 [==============================] - 0s 7ms/step - loss: 0.0753 - accuracy: 0.9881 - val_loss: 0.1023 - val_accuracy: 0.9796\n",
      "Epoch 32/50\n",
      "19/19 [==============================] - 0s 7ms/step - loss: 0.0664 - accuracy: 0.9932 - val_loss: 0.1023 - val_accuracy: 0.9728\n",
      "Epoch 33/50\n",
      "19/19 [==============================] - 2s 131ms/step - loss: 0.0715 - accuracy: 0.9881 - val_loss: 0.0963 - val_accuracy: 0.9728\n",
      "Epoch 34/50\n",
      "19/19 [==============================] - 3s 141ms/step - loss: 0.0631 - accuracy: 0.9949 - val_loss: 0.0826 - val_accuracy: 0.9864\n",
      "Epoch 35/50\n",
      "19/19 [==============================] - 3s 152ms/step - loss: 0.0579 - accuracy: 0.9949 - val_loss: 0.0812 - val_accuracy: 0.9796\n",
      "Epoch 36/50\n",
      "19/19 [==============================] - 0s 7ms/step - loss: 0.0574 - accuracy: 0.9932 - val_loss: 0.0836 - val_accuracy: 0.9864\n",
      "Epoch 37/50\n",
      "19/19 [==============================] - 3s 155ms/step - loss: 0.0553 - accuracy: 0.9949 - val_loss: 0.0759 - val_accuracy: 0.9796\n",
      "Epoch 38/50\n",
      "19/19 [==============================] - 3s 145ms/step - loss: 0.0502 - accuracy: 0.9983 - val_loss: 0.0746 - val_accuracy: 0.9796\n",
      "Epoch 39/50\n",
      "19/19 [==============================] - 3s 142ms/step - loss: 0.0492 - accuracy: 0.9949 - val_loss: 0.0711 - val_accuracy: 0.9932\n",
      "Epoch 40/50\n",
      "19/19 [==============================] - 3s 142ms/step - loss: 0.0463 - accuracy: 0.9966 - val_loss: 0.0685 - val_accuracy: 0.9932\n",
      "Epoch 41/50\n",
      "19/19 [==============================] - 3s 142ms/step - loss: 0.0455 - accuracy: 0.9966 - val_loss: 0.0675 - val_accuracy: 0.9932\n",
      "Epoch 42/50\n",
      "19/19 [==============================] - 0s 8ms/step - loss: 0.0413 - accuracy: 0.9966 - val_loss: 0.0702 - val_accuracy: 0.9864\n",
      "Epoch 43/50\n",
      "19/19 [==============================] - 3s 139ms/step - loss: 0.0445 - accuracy: 0.9966 - val_loss: 0.0621 - val_accuracy: 0.9932\n",
      "Epoch 44/50\n",
      "19/19 [==============================] - 0s 9ms/step - loss: 0.0385 - accuracy: 0.9983 - val_loss: 0.0627 - val_accuracy: 0.9864\n",
      "Epoch 45/50\n",
      "19/19 [==============================] - 3s 144ms/step - loss: 0.0377 - accuracy: 0.9983 - val_loss: 0.0590 - val_accuracy: 1.0000\n",
      "Epoch 46/50\n",
      "19/19 [==============================] - 0s 7ms/step - loss: 0.0345 - accuracy: 0.9983 - val_loss: 0.0611 - val_accuracy: 0.9932\n",
      "Epoch 47/50\n",
      "19/19 [==============================] - 3s 142ms/step - loss: 0.0384 - accuracy: 0.9983 - val_loss: 0.0582 - val_accuracy: 0.9932\n",
      "Epoch 48/50\n",
      "19/19 [==============================] - 3s 143ms/step - loss: 0.0365 - accuracy: 0.9949 - val_loss: 0.0557 - val_accuracy: 0.9864\n",
      "Epoch 49/50\n",
      "19/19 [==============================] - 0s 7ms/step - loss: 0.0320 - accuracy: 1.0000 - val_loss: 0.0581 - val_accuracy: 0.9864\n",
      "Epoch 50/50\n",
      "19/19 [==============================] - 0s 9ms/step - loss: 0.0306 - accuracy: 1.0000 - val_loss: 0.0564 - val_accuracy: 0.9864\n"
     ]
    }
   ],
   "source": [
    "history = model.fit(train_dataset, epochs=50,\n",
    "                    validation_data=test_dataset, \n",
    "                    validation_steps=5,\n",
    "                    callbacks=earlystopping_cb)"
   ]
  },
  {
   "cell_type": "code",
   "execution_count": 10,
   "metadata": {},
   "outputs": [
    {
     "name": "stdout",
     "output_type": "stream",
     "text": [
      "5/5 [==============================] - 0s 4ms/step - loss: 0.0564 - accuracy: 0.9864\n",
      "Test Loss: 0.05638410523533821\n",
      "Test Accuracy: 0.9863945841789246\n"
     ]
    }
   ],
   "source": [
    "test_loss, test_acc = model.evaluate(test_dataset) \n",
    "\n",
    "print('Test Loss: {}'.format(test_loss))\n",
    "print('Test Accuracy: {}'.format(test_acc))"
   ]
  },
  {
   "cell_type": "code",
   "execution_count": 11,
   "metadata": {},
   "outputs": [
    {
     "data": {
      "text/plain": [
       "(0.0, 1.5121408230625093)"
      ]
     },
     "execution_count": 11,
     "metadata": {},
     "output_type": "execute_result"
    },
    {
     "data": {
      "image/png": "[encoded data removed]",
      "text/plain": [
       "<Figure size 1152x576 with 2 Axes>"
      ]
     },
     "metadata": {
      "needs_background": "light"
     },
     "output_type": "display_data"
    }
   ],
   "source": [
    "plt.figure(figsize=(16,8)) \n",
    "plt.subplot(1,2,1)\n",
    "plot_graphs(history, 'accuracy')\n",
    "plt.ylim(None,1)\n",
    "plt.subplot(1,2,2)\n",
    "plot_graphs(history, 'loss')\n",
    "plt.ylim(0,None)"
   ]
  },
  {
   "cell_type": "code",
   "execution_count": null,
   "metadata": {},
   "outputs": [],
   "source": []
  },
  {
   "cell_type": "code",
   "execution_count": null,
   "metadata": {},
   "outputs": [],
   "source": []
  }
 ],
 "metadata": {
  "kernelspec": {
   "display_name": "Python 3",
   "language": "python",
   "name": "python3"
  },
  "language_info": {
   "codemirror_mode": {
    "name": "ipython",
    "version": 3
   },
   "file_extension": ".py",
   "mimetype": "text/x-python",
   "name": "python",
   "nbconvert_exporter": "python",
   "pygments_lexer": "ipython3",
   "version": "3.8.3"
  }
 },
 "nbformat": 4,
 "nbformat_minor": 4
}
