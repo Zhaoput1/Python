{
 "cells": [
  {
   "cell_type": "code",
   "execution_count": 1,
   "metadata": {},
   "outputs": [],
   "source": [
    "import numpy as np\n",
    "import tensorflow_datasets as tfds\n",
    "import tensorflow as tf\n",
    "tfds.disable_progress_bar()\n",
    "import collections\n",
    "import pathlib\n",
    "import re\n",
    "import string\n",
    "from tensorflow.keras import layers\n",
    "from tensorflow.keras import losses\n",
    "from tensorflow.keras import preprocessing\n",
    "from tensorflow.keras import utils\n",
    "from tensorflow.keras.layers.experimental.preprocessing import TextVectorization\n",
    "import matplotlib.pyplot as plt\n",
    "import tensorflow_text as tf_text\n",
    "from tensorflow import keras"
   ]
  },
  {
   "cell_type": "code",
   "execution_count": 2,
   "metadata": {},
   "outputs": [],
   "source": [
    "tfds.disable_progress_bar()\n",
    "\n",
    "\n",
    "def plot_graphs(history, metric):\n",
    "    plt.plot(history.history[metric])\n",
    "    plt.plot(history.history['val_'+metric], '')\n",
    "    plt.xlabel(\"Epochs\")\n",
    "    plt.ylabel(metric)\n",
    "    plt.legend([metric, 'val_'+metric])"
   ]
  },
  {
   "cell_type": "code",
   "execution_count": 3,
   "metadata": {},
   "outputs": [
    {
     "name": "stdout",
     "output_type": "stream",
     "text": [
      "Found 2225 files belonging to 5 classes.\n",
      "Using 1780 files for training.\n"
     ]
    }
   ],
   "source": [
    "#batch_size = 32\n",
    "seed = 42\n",
    "\n",
    "train_dataset = preprocessing.text_dataset_from_directory(\n",
    "    'bbc',\n",
    "#    batch_size=batch_size,\n",
    "    validation_split=0.2,\n",
    "    subset='training',\n",
    "    seed=seed)"
   ]
  },
  {
   "cell_type": "code",
   "execution_count": 4,
   "metadata": {},
   "outputs": [
    {
     "name": "stdout",
     "output_type": "stream",
     "text": [
      "Found 2225 files belonging to 5 classes.\n",
      "Using 445 files for validation.\n"
     ]
    }
   ],
   "source": [
    "test_dataset = preprocessing.text_dataset_from_directory(\n",
    "    'bbc',\n",
    "#    batch_size=batch_size,\n",
    "    validation_split=.2,\n",
    "    subset='validation',\n",
    "    seed=seed)"
   ]
  },
  {
   "cell_type": "code",
   "execution_count": 5,
   "metadata": {},
   "outputs": [],
   "source": [
    "VOCAB_SIZE=5000\n",
    "encoder = tf.keras.layers.experimental.preprocessing.TextVectorization(\n",
    "    max_tokens=VOCAB_SIZE)\n",
    "encoder.adapt(train_dataset.map(lambda text, label: text))"
   ]
  },
  {
   "cell_type": "code",
   "execution_count": 6,
   "metadata": {},
   "outputs": [],
   "source": [
    "vocab = np.array(encoder.get_vocabulary())\n"
   ]
  },
  {
   "cell_type": "code",
   "execution_count": 7,
   "metadata": {},
   "outputs": [],
   "source": [
    "model = tf.keras.Sequential([\n",
    "    encoder,  \n",
    "    tf.keras.layers.Embedding(\n",
    "        input_dim=len(encoder.get_vocabulary()),\n",
    "        output_dim=64,\n",
    "        # Use masking to handle the variable sequence lengths\n",
    "        mask_zero=True),\n",
    "    tf.keras.layers.Bidirectional(tf.keras.layers.LSTM(64)),\n",
    "    tf.keras.layers.Dense(64, activation='relu'),\n",
    "    tf.keras.layers.Dense(5, activation='softmax')\n",
    "])"
   ]
  },
  {
   "cell_type": "code",
   "execution_count": 8,
   "metadata": {},
   "outputs": [],
   "source": [
    "model.compile(loss='sparse_categorical_crossentropy',\n",
    "              optimizer=tf.keras.optimizers.Adam(learning_rate=0.001),\n",
    "              metrics=['accuracy'])"
   ]
  },
  {
   "cell_type": "code",
   "execution_count": 9,
   "metadata": {},
   "outputs": [],
   "source": [
    "# checkpoint_cb = keras.callbacks.ModelCheckpoint ('/tmp/checkpoint', save_best_only=True)\n",
    "# tf.keras.callbacks.ModelCheckpoint\n",
    "earlystopping_cb = keras.callbacks.EarlyStopping (patience=10, restore_best_weights=True)"
   ]
  },
  {
   "cell_type": "code",
   "execution_count": 10,
   "metadata": {},
   "outputs": [
    {
     "name": "stdout",
     "output_type": "stream",
     "text": [
      "Epoch 1/50\n",
      "56/56 [==============================] - 51s 911ms/step - loss: 1.5731 - accuracy: 0.3270 - val_loss: 1.4523 - val_accuracy: 0.4344\n",
      "Epoch 2/50\n",
      "56/56 [==============================] - 39s 700ms/step - loss: 0.8125 - accuracy: 0.7365 - val_loss: 0.5138 - val_accuracy: 0.8687\n",
      "Epoch 3/50\n",
      "56/56 [==============================] - 36s 650ms/step - loss: 0.1846 - accuracy: 0.9590 - val_loss: 0.2241 - val_accuracy: 0.9312\n",
      "Epoch 4/50\n",
      "56/56 [==============================] - 34s 602ms/step - loss: 0.0669 - accuracy: 0.9854 - val_loss: 0.1636 - val_accuracy: 0.9594\n",
      "Epoch 5/50\n",
      "56/56 [==============================] - 35s 631ms/step - loss: 0.0610 - accuracy: 0.9882 - val_loss: 0.1899 - val_accuracy: 0.9438\n",
      "Epoch 6/50\n",
      "56/56 [==============================] - 35s 620ms/step - loss: 0.0248 - accuracy: 0.9938 - val_loss: 0.2119 - val_accuracy: 0.9344\n",
      "Epoch 7/50\n",
      "56/56 [==============================] - 32s 563ms/step - loss: 0.0071 - accuracy: 0.9989 - val_loss: 0.2424 - val_accuracy: 0.9375\n",
      "Epoch 8/50\n",
      "56/56 [==============================] - 33s 598ms/step - loss: 0.0023 - accuracy: 1.0000 - val_loss: 0.1547 - val_accuracy: 0.9563\n",
      "Epoch 9/50\n",
      "56/56 [==============================] - 35s 618ms/step - loss: 7.7013e-04 - accuracy: 1.0000 - val_loss: 0.1697 - val_accuracy: 0.9563\n",
      "Epoch 10/50\n",
      "56/56 [==============================] - 34s 614ms/step - loss: 4.9761e-04 - accuracy: 1.0000 - val_loss: 0.1645 - val_accuracy: 0.9531\n",
      "Epoch 11/50\n",
      "56/56 [==============================] - 34s 614ms/step - loss: 3.7604e-04 - accuracy: 1.0000 - val_loss: 0.1888 - val_accuracy: 0.9625\n",
      "Epoch 12/50\n",
      "56/56 [==============================] - 33s 594ms/step - loss: 3.0044e-04 - accuracy: 1.0000 - val_loss: 0.1816 - val_accuracy: 0.9625\n",
      "Epoch 13/50\n",
      "56/56 [==============================] - 36s 635ms/step - loss: 2.4861e-04 - accuracy: 1.0000 - val_loss: 0.2264 - val_accuracy: 0.9531\n",
      "Epoch 14/50\n",
      "56/56 [==============================] - 36s 639ms/step - loss: 2.1005e-04 - accuracy: 1.0000 - val_loss: 0.1958 - val_accuracy: 0.9563\n",
      "Epoch 15/50\n",
      "56/56 [==============================] - 36s 641ms/step - loss: 1.8176e-04 - accuracy: 1.0000 - val_loss: 0.2578 - val_accuracy: 0.9500\n",
      "Epoch 16/50\n",
      "56/56 [==============================] - 35s 631ms/step - loss: 1.5866e-04 - accuracy: 1.0000 - val_loss: 0.2086 - val_accuracy: 0.9594\n",
      "Epoch 17/50\n",
      "56/56 [==============================] - 34s 601ms/step - loss: 1.3943e-04 - accuracy: 1.0000 - val_loss: 0.1388 - val_accuracy: 0.9719\n",
      "Epoch 18/50\n",
      "56/56 [==============================] - 34s 608ms/step - loss: 1.2399e-04 - accuracy: 1.0000 - val_loss: 0.2368 - val_accuracy: 0.9531\n",
      "Epoch 19/50\n",
      "56/56 [==============================] - 34s 616ms/step - loss: 1.1149e-04 - accuracy: 1.0000 - val_loss: 0.2167 - val_accuracy: 0.9594\n",
      "Epoch 20/50\n",
      "56/56 [==============================] - 34s 615ms/step - loss: 1.0043e-04 - accuracy: 1.0000 - val_loss: 0.2145 - val_accuracy: 0.9656\n",
      "Epoch 21/50\n",
      "56/56 [==============================] - 35s 624ms/step - loss: 9.1226e-05 - accuracy: 1.0000 - val_loss: 0.2480 - val_accuracy: 0.9563\n",
      "Epoch 22/50\n",
      "56/56 [==============================] - 35s 627ms/step - loss: 8.3316e-05 - accuracy: 1.0000 - val_loss: 0.1966 - val_accuracy: 0.9625\n",
      "Epoch 23/50\n",
      "56/56 [==============================] - 32s 578ms/step - loss: 7.6563e-05 - accuracy: 1.0000 - val_loss: 0.2232 - val_accuracy: 0.9500\n",
      "Epoch 24/50\n",
      "56/56 [==============================] - 37s 656ms/step - loss: 7.2883e-05 - accuracy: 1.0000 - val_loss: 0.2696 - val_accuracy: 0.9469\n",
      "Epoch 25/50\n",
      "56/56 [==============================] - 36s 649ms/step - loss: 6.5906e-05 - accuracy: 1.0000 - val_loss: 0.2381 - val_accuracy: 0.9594\n",
      "Epoch 26/50\n",
      "56/56 [==============================] - 35s 622ms/step - loss: 6.0643e-05 - accuracy: 1.0000 - val_loss: 0.1751 - val_accuracy: 0.9656\n",
      "Epoch 27/50\n",
      "56/56 [==============================] - 35s 626ms/step - loss: 5.6064e-05 - accuracy: 1.0000 - val_loss: 0.2319 - val_accuracy: 0.9500\n"
     ]
    }
   ],
   "source": [
    "history = model.fit(train_dataset, epochs=50,\n",
    "                    validation_data=test_dataset, \n",
    "                    validation_steps=10,\n",
    "                    callbacks=earlystopping_cb)"
   ]
  },
  {
   "cell_type": "code",
   "execution_count": 11,
   "metadata": {},
   "outputs": [
    {
     "name": "stdout",
     "output_type": "stream",
     "text": [
      "14/14 [==============================] - 1s 83ms/step - loss: 0.2272 - accuracy: 0.9573\n",
      "Test Loss: 0.22723928093910217\n",
      "Test Accuracy: 0.9573033452033997\n"
     ]
    }
   ],
   "source": [
    "test_loss, test_acc = model.evaluate(test_dataset)\n",
    "\n",
    "print('Test Loss: {}'.format(test_loss))\n",
    "print('Test Accuracy: {}'.format(test_acc))"
   ]
  },
  {
   "cell_type": "code",
   "execution_count": 12,
   "metadata": {},
   "outputs": [
    {
     "data": {
      "text/plain": [
       "(0.0, 1.6517485362594015)"
      ]
     },
     "execution_count": 12,
     "metadata": {},
     "output_type": "execute_result"
    },
    {
     "data": {
      "image/png": "[encoded data removed]",
      "text/plain": [
       "<Figure size 1152x576 with 2 Axes>"
      ]
     },
     "metadata": {
      "needs_background": "light"
     },
     "output_type": "display_data"
    }
   ],
   "source": [
    "plt.figure(figsize=(16,8))\n",
    "plt.subplot(1,2,1)\n",
    "plot_graphs(history, 'accuracy')\n",
    "plt.ylim(None,1)\n",
    "plt.subplot(1,2,2)\n",
    "plot_graphs(history, 'loss')\n",
    "plt.ylim(0,None)"
   ]
  },
  {
   "cell_type": "code",
   "execution_count": 13,
   "metadata": {},
   "outputs": [],
   "source": [
    "# model = tf.keras.Sequential([\n",
    "#     encoder,\n",
    "#     tf.keras.layers.Embedding(len(encoder.get_vocabulary()), 64, mask_zero=True),\n",
    "#     tf.keras.layers.Bidirectional(tf.keras.layers.LSTM(64,  return_sequences=True)),\n",
    "#     tf.keras.layers.Bidirectional(tf.keras.layers.LSTM(32)),\n",
    "#     tf.keras.layers.Dense(64, activation='relu'),\n",
    "#     tf.keras.layers.Dropout(0.5),\n",
    "#     tf.keras.layers.Dense(5)\n",
    "# ])"
   ]
  },
  {
   "cell_type": "code",
   "execution_count": null,
   "metadata": {},
   "outputs": [],
   "source": []
  }
 ],
 "metadata": {
  "kernelspec": {
   "display_name": "Python 3",
   "language": "python",
   "name": "python3"
  },
  "language_info": {
   "codemirror_mode": {
    "name": "ipython",
    "version": 3
   },
   "file_extension": ".py",
   "mimetype": "text/x-python",
   "name": "python",
   "nbconvert_exporter": "python",
   "pygments_lexer": "ipython3",
   "version": "3.8.3"
  }
 },
 "nbformat": 4,
 "nbformat_minor": 4
}
