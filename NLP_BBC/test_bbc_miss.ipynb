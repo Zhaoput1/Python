{
 "cells": [
  {
   "cell_type": "code",
   "execution_count": 1,
   "metadata": {},
   "outputs": [],
   "source": [
    "import numpy as np\n",
    "import tensorflow_datasets as tfds\n",
    "import tensorflow as tf\n",
    "tfds.disable_progress_bar()\n",
    "import collections\n",
    "import pathlib\n",
    "import re\n",
    "import string\n",
    "from tensorflow.keras import layers\n",
    "from tensorflow.keras import losses\n",
    "from tensorflow.keras import preprocessing\n",
    "from tensorflow.keras import utils\n",
    "from tensorflow.keras.layers.experimental.preprocessing import TextVectorization\n",
    "import matplotlib.pyplot as plt\n",
    "import tensorflow_text as tf_text\n",
    "from tensorflow import keras"
   ]
  },
  {
   "cell_type": "code",
   "execution_count": 2,
   "metadata": {},
   "outputs": [],
   "source": [
    "tfds.disable_progress_bar()\n",
    "\n",
    "\n",
    "def plot_graphs(history, metric):   #define a function to plot the history graph with accuracy and loss\n",
    "    plt.plot(history.history[metric])\n",
    "    plt.plot(history.history['val_'+metric], '')\n",
    "    plt.xlabel(\"Epochs\")\n",
    "    plt.ylabel(metric)\n",
    "    plt.legend([metric, 'val_'+metric])"
   ]
  },
  {
   "cell_type": "code",
   "execution_count": 3,
   "metadata": {},
   "outputs": [
    {
     "name": "stdout",
     "output_type": "stream",
     "text": [
      "Found 2225 files belonging to 5 classes.\n",
      "Using 1780 files for training.\n"
     ]
    }
   ],
   "source": [
    "#batch_size = 32\n",
    "seed = 42  #set seed\n",
    "\n",
    "train_dataset = preprocessing.text_dataset_from_directory( #separate the dataset to training dataset and test dataset\n",
    "    'bbc', \n",
    "#    batch_size=batch_size,\n",
    "    validation_split=0.2,\n",
    "    subset='training',\n",
    "    seed=seed)"
   ]
  },
  {
   "cell_type": "code",
   "execution_count": 4,
   "metadata": {},
   "outputs": [
    {
     "name": "stdout",
     "output_type": "stream",
     "text": [
      "Found 2225 files belonging to 5 classes.\n",
      "Using 445 files for validation.\n"
     ]
    }
   ],
   "source": [
    "test_dataset = preprocessing.text_dataset_from_directory(\n",
    "    'bbc',\n",
    "#    batch_size=batch_size,\n",
    "    validation_split=.2,\n",
    "    subset='validation',\n",
    "    seed=seed)"
   ]
  },
  {
   "cell_type": "code",
   "execution_count": 5,
   "metadata": {},
   "outputs": [],
   "source": [
    "VOCAB_SIZE=5000  #set the size of the vocabulary lab \n",
    "#The raw text loaded by tfds needs to be processed before it can be used in a model. \n",
    "encoder = tf.keras.layers.experimental.preprocessing.TextVectorization(  # experimental preprocessing\n",
    "    max_tokens=VOCAB_SIZE)\n",
    "encoder.adapt(train_dataset.map(lambda text, label: text)) #Create the layer, and pass the dataset's text to the layer's .adapt method"
   ]
  },
  {
   "cell_type": "code",
   "execution_count": 6,
   "metadata": {},
   "outputs": [],
   "source": [
    "vocab = np.array(encoder.get_vocabulary())\n"
   ]
  },
  {
   "cell_type": "code",
   "execution_count": 7,
   "metadata": {},
   "outputs": [],
   "source": [
    "model = tf.keras.Sequential([  #build the sequential\n",
    "    encoder,  #first encoder layer defined above\n",
    "    tf.keras.layers.Embedding( # with 64 dim output\n",
    "        input_dim=len(encoder.get_vocabulary()),\n",
    "        output_dim=64,\n",
    "        # Use masking to handle the variable sequence lengths\n",
    "        mask_zero=True),\n",
    "    tf.keras.layers.Bidirectional(tf.keras.layers.LSTM(64)), #LSTM 64 dims\n",
    "    tf.keras.layers.Dense(64, activation='relu'), # 64 cells with relu activation function\n",
    "    tf.keras.layers.Dense(5, activation='softmax') # 5 dim output with softmax activation function\n",
    "])"
   ]
  },
  {
   "cell_type": "code",
   "execution_count": 8,
   "metadata": {},
   "outputs": [],
   "source": [
    "model.compile(loss='sparse_categorical_crossentropy', # loss function \n",
    "              optimizer=tf.keras.optimizers.Adam(learning_rate=0.001), #optimizer with learning rate .001\n",
    "              metrics=['accuracy']) # metrics set to be accuracy"
   ]
  },
  {
   "cell_type": "code",
   "execution_count": 9,
   "metadata": {},
   "outputs": [],
   "source": [
    "earlystopping_cb = keras.callbacks.EarlyStopping (patience=10, restore_best_weights=True) # set callbacks"
   ]
  },
  {
   "cell_type": "code",
   "execution_count": 10,
   "metadata": {
    "scrolled": true
   },
   "outputs": [
    {
     "name": "stdout",
     "output_type": "stream",
     "text": [
      "Epoch 1/50\n",
      "56/56 [==============================] - 53s 951ms/step - loss: 1.5598 - accuracy: 0.2820 - val_loss: 1.6199 - val_accuracy: 0.2844\n",
      "Epoch 2/50\n",
      "56/56 [==============================] - 51s 903ms/step - loss: 1.2594 - accuracy: 0.4899 - val_loss: 1.3655 - val_accuracy: 0.4531\n",
      "Epoch 3/50\n",
      "56/56 [==============================] - 49s 877ms/step - loss: 0.9766 - accuracy: 0.6264 - val_loss: 0.8626 - val_accuracy: 0.7656\n",
      "Epoch 4/50\n",
      "56/56 [==============================] - 50s 887ms/step - loss: 0.4692 - accuracy: 0.8539 - val_loss: 0.4323 - val_accuracy: 0.8781\n",
      "Epoch 5/50\n",
      "56/56 [==============================] - 50s 899ms/step - loss: 0.1201 - accuracy: 0.9753 - val_loss: 0.2681 - val_accuracy: 0.9312\n",
      "Epoch 6/50\n",
      "56/56 [==============================] - 50s 891ms/step - loss: 0.0383 - accuracy: 0.9910 - val_loss: 0.3691 - val_accuracy: 0.9000\n",
      "Epoch 7/50\n",
      "56/56 [==============================] - 45s 800ms/step - loss: 0.0185 - accuracy: 0.9955 - val_loss: 0.3471 - val_accuracy: 0.9062\n",
      "Epoch 8/50\n",
      "56/56 [==============================] - 47s 846ms/step - loss: 0.0162 - accuracy: 0.9978 - val_loss: 0.3610 - val_accuracy: 0.9187\n",
      "Epoch 9/50\n",
      "56/56 [==============================] - 49s 878ms/step - loss: 0.0128 - accuracy: 0.9978 - val_loss: 0.3786 - val_accuracy: 0.9187\n",
      "Epoch 10/50\n",
      "56/56 [==============================] - 48s 864ms/step - loss: 0.0068 - accuracy: 0.9989 - val_loss: 0.3287 - val_accuracy: 0.9250\n",
      "Epoch 11/50\n",
      "56/56 [==============================] - 49s 874ms/step - loss: 0.0024 - accuracy: 0.9994 - val_loss: 0.3076 - val_accuracy: 0.9312\n",
      "Epoch 12/50\n",
      "56/56 [==============================] - 46s 829ms/step - loss: 0.0024 - accuracy: 0.9994 - val_loss: 0.3674 - val_accuracy: 0.9187\n",
      "Epoch 13/50\n",
      "56/56 [==============================] - 48s 860ms/step - loss: 0.0023 - accuracy: 0.9994 - val_loss: 0.4014 - val_accuracy: 0.9125\n",
      "Epoch 14/50\n",
      "56/56 [==============================] - 48s 858ms/step - loss: 0.0012 - accuracy: 1.0000 - val_loss: 0.3961 - val_accuracy: 0.9187\n",
      "Epoch 15/50\n",
      "56/56 [==============================] - 48s 861ms/step - loss: 0.0218 - accuracy: 0.9949 - val_loss: 0.3631 - val_accuracy: 0.9062\n"
     ]
    }
   ],
   "source": [
    "history = model.fit(train_dataset, epochs=50, #training process epochs=50\n",
    "                    validation_data=test_dataset, \n",
    "                    validation_steps=10,\n",
    "                    callbacks=earlystopping_cb) #set callbacks"
   ]
  },
  {
   "cell_type": "code",
   "execution_count": 11,
   "metadata": {},
   "outputs": [
    {
     "name": "stdout",
     "output_type": "stream",
     "text": [
      "14/14 [==============================] - 2s 132ms/step - loss: 0.3369 - accuracy: 0.9169\n",
      "Test Loss: 0.3368772268295288\n",
      "Test Accuracy: 0.9168539047241211\n"
     ]
    }
   ],
   "source": [
    "test_loss, test_acc = model.evaluate(test_dataset) #result evaluation \n",
    "\n",
    "print('Test Loss: {}'.format(test_loss))\n",
    "print('Test Accuracy: {}'.format(test_acc))"
   ]
  },
  {
   "cell_type": "code",
   "execution_count": 12,
   "metadata": {},
   "outputs": [
    {
     "data": {
      "text/plain": [
       "(0.0, 1.7008122442057356)"
      ]
     },
     "execution_count": 12,
     "metadata": {},
     "output_type": "execute_result"
    },
    {
     "data": {
      "image/png": "[encoded data removed]",
      "text/plain": [
       "<Figure size 1152x576 with 2 Axes>"
      ]
     },
     "metadata": {
      "needs_background": "light"
     },
     "output_type": "display_data"
    }
   ],
   "source": [
    "plt.figure(figsize=(16,8))\n",
    "plt.subplot(1,2,1)\n",
    "plot_graphs(history, 'accuracy')\n",
    "plt.ylim(None,1)\n",
    "plt.subplot(1,2,2)\n",
    "plot_graphs(history, 'loss')\n",
    "plt.ylim(0,None)"
   ]
  },
  {
   "cell_type": "code",
   "execution_count": 93,
   "metadata": {},
   "outputs": [],
   "source": [
    "test = list(test_dataset)\n",
    "x_test = []\n",
    "y_test = []\n",
    "for line in range(len(test)):\n",
    "    for i in test[line][0]:\n",
    "        x_test.append(i)\n",
    "    for j in test[line][1]:\n",
    "        y_test.append(j)\n",
    "y_test = np.array(y_test)"
   ]
  },
  {
   "cell_type": "code",
   "execution_count": 94,
   "metadata": {},
   "outputs": [],
   "source": [
    "test_np = np.stack(list(x_test))"
   ]
  },
  {
   "cell_type": "code",
   "execution_count": 95,
   "metadata": {},
   "outputs": [],
   "source": [
    "predictions = model.predict(test_np)\n",
    "y_pred = np.array(tf.argmax(predictions, axis=1))"
   ]
  },
  {
   "cell_type": "code",
   "execution_count": 96,
   "metadata": {},
   "outputs": [
    {
     "name": "stdout",
     "output_type": "stream",
     "text": [
      "0.9168539325842696\n"
     ]
    }
   ],
   "source": [
    "from sklearn.metrics import accuracy_score\n",
    "print(accuracy_score(y_test, y_pred))"
   ]
  },
  {
   "cell_type": "code",
   "execution_count": 108,
   "metadata": {
    "scrolled": true
   },
   "outputs": [],
   "source": [
    "count = 0\n",
    "count_tab = []\n",
    "for i,j in zip(y_test, y_pred):\n",
    "    if i != j:\n",
    "        count_tab.append(count)\n",
    "    count +=1"
   ]
  },
  {
   "cell_type": "code",
   "execution_count": null,
   "metadata": {},
   "outputs": [],
   "source": [
    "# business\n",
    "# entertainment\n",
    "# politics\n",
    "# sport\n",
    "# tech"
   ]
  },
  {
   "cell_type": "code",
   "execution_count": 111,
   "metadata": {},
   "outputs": [
    {
     "data": {
      "text/plain": [
       "(1, 4)"
      ]
     },
     "execution_count": 111,
     "metadata": {},
     "output_type": "execute_result"
    }
   ],
   "source": [
    "y_test[count_tab[0]],y_pred[count_tab[0]] \n",
    "# entertainment -> tech. The text talk about the CD and market which have relationship to the tech"
   ]
  },
  {
   "cell_type": "code",
   "execution_count": 110,
   "metadata": {},
   "outputs": [
    {
     "data": {
      "text/plain": [
       "b'UK \\'world\\'s biggest music buyer\\'\\n\\nUK consumers are the biggest music buyers in the world, according to new figures released on Tuesday by the British Phonographic Industry (BPI).\\n\\nBut global sales of recorded music were flat in 2004, with growing sales in DVD music videos offset by online and physical piracy in major markets. The UK music industry recorded an overall 3% increase in volume sales, mostly due to its robust albums market. However, world music sales declined by 1.3% to $33.6 billion (\\xc2\\xa317.7 billion). The UK CD albums market grew by 4.5% in 2004 with a record 174.6 million units sold. On average every Briton buys 3.2 CDs per person per year.\\n\\nAround 26,000 albums are released in the UK each year, making Britain second only to the US in terms of the number of releases. Overall sales were driven by new UK-signed artists such as Keane, Katie Melua and Scissor Sisters, whose debut album sold almost 1.6 million copies in the UK. \"A slew of great new British artists have met UK music fans\\' demand for great music,\" said BPI chairman Peter Jameson. The best-selling album globally was Usher\\'s Confessions - one of eight albums to sell more than five million copies in 2004.\\n\\nThe growth in the DVD market and a sharp increase in sales of digital music ensured a strong market in the US. The total number of tracks downloaded last year were up more than tenfold on 2003. Digital sales in the US in the first two months of 2005 are already more than double that of the same period in 2004.\\n\\nHowever, some markets in Continental Europe and Asia - notably Sweden, Finland, France, Spain and South Korea - have been drastically hit by internet piracy. Australia, Italy and the Netherlands also saw a decline. \"On the positive side digital sales are booming,\" said John Kennedy, chief executive of the International Federation of Phonographic Industries (IFPI). \"However, commercial piracy and illegal file-sharing are continuing to depress our markets. \"The priority in the coming year is to step up the advance of legitimate digital sales and sustain our anti-piracy efforts.\" \"The main choice today\\'s music fan now has to make is whether to get music legally or illegally,\" added Mr Jameson.\\n'"
      ]
     },
     "execution_count": 110,
     "metadata": {},
     "output_type": "execute_result"
    }
   ],
   "source": [
    "test_np[count_tab[0]]"
   ]
  },
  {
   "cell_type": "code",
   "execution_count": 113,
   "metadata": {},
   "outputs": [
    {
     "data": {
      "text/plain": [
       "(4, 1)"
      ]
     },
     "execution_count": 113,
     "metadata": {},
     "output_type": "execute_result"
    }
   ],
   "source": [
    "y_test[count_tab[1]],y_pred[count_tab[1]]\n",
    "# tech -> entertainment. The text talk about playstation and vedio games, may lead to a entertainment subject"
   ]
  },
  {
   "cell_type": "code",
   "execution_count": 114,
   "metadata": {},
   "outputs": [
    {
     "data": {
      "text/plain": [
       "b'Half-Life 2 sweeps Bafta awards\\n\\nPC first person shooter Half-Life 2 has won six Bafta Awards, including best game and best online game.\\n\\nThe title, developed by Valve, was released last year to universal acclaim - receiving special praise for its immersive plot and physics engine. The game also won Baftas for best action adventure, best PC game, art direction and animation. Burnout 3 won three awards in the categories for racing, technical direction and best PlayStation 2 game. Grant Dean, chairman of the Bafta games awards, said at a ceremony in London on Tuesday: \"The last year has been a great year for the interactive entertainment industry.\\n\\n\"These awards reflect the enormous achievements, progress and diversity that we have seen in that time.\" Halo 2 won the best Xbox game category, while Prince of Persia: Warrior Within was adjudged the best GameCube title. The sports award went to Konami\\'s Pro Evolution Soccer 4. Bafta said the \"significant feature\" of this year\\'s awards was the number of \"non-traditional games\". The originality award was won by PlayStation 2 title Singstar while the children\\'s award went to GameCube bongo rhythm game Donkey Konga. The Handheld Award went to Colin McRae Rally 2005 while the mobile category was won by Blue Tooth Byplanes. The audio award was won by Call of Duty: Finest Hour and Hitman: Contracts won the music award.\\n'"
      ]
     },
     "execution_count": 114,
     "metadata": {},
     "output_type": "execute_result"
    }
   ],
   "source": [
    "test_np[count_tab[1]]"
   ]
  },
  {
   "cell_type": "code",
   "execution_count": 115,
   "metadata": {},
   "outputs": [
    {
     "data": {
      "text/plain": [
       "(2, 3)"
      ]
     },
     "execution_count": 115,
     "metadata": {},
     "output_type": "execute_result"
    }
   ],
   "source": [
    "y_test[count_tab[2]],y_pred[count_tab[2]]\n",
    "# politics -> sports. Not sure why it is wrong, may because too many names are mentioned"
   ]
  },
  {
   "cell_type": "code",
   "execution_count": 116,
   "metadata": {},
   "outputs": [
    {
     "data": {
      "text/plain": [
       "b'Galloway plea for hostage release\\n\\nEx-Labour MP George Galloway has appealed for the release of aid worker Margaret Hassan, kidnapped in Iraq.\\n\\nMrs Hassan, 59, who led Care International operations in Iraq, was abducted in Baghdad on 19 October. Mr Galloway was expelled from the Labour party because of his staunch opposition to the war on Iraq. He denied an earlier report that he planned to make a direct appeal to the kidnappers via the Al-Jazeera Arabic television channel.\\n\\nSpeaking in London on Saturday at the first annual delegate conference of his newly-founded party, the Respect Coalition, he said: \"I have deliberately not involved myself before in any of these situations. \"But this woman has been a prominent opponent of both the war and the preceding years of sanctions. \"I am prepared to do anything I can to help save her life.\" A spokesman later said Mr Galloway had friends in common with Ms Hassan, who he described as a prominent anti-war activist, and that he was \"willing to do anything - go to Iraq or be an intermediary or anything that\\'s necessary\". Since her abduction, several videos of Mrs Hassan have been broadcast by Al-Jazeera. The latest footage showed Mrs Hassan asking for British troops to be pulled out of Iraq. She also urged Care International, the aid agency she works for, to close its office in Baghdad, and appealed for Iraqi women prisoners to be freed. Care has since closed down all its operations in Iraq.\\n'"
      ]
     },
     "execution_count": 116,
     "metadata": {},
     "output_type": "execute_result"
    }
   ],
   "source": [
    "test_np[count_tab[2]]"
   ]
  },
  {
   "cell_type": "code",
   "execution_count": null,
   "metadata": {},
   "outputs": [],
   "source": []
  }
 ],
 "metadata": {
  "kernelspec": {
   "display_name": "Python 3",
   "language": "python",
   "name": "python3"
  },
  "language_info": {
   "codemirror_mode": {
    "name": "ipython",
    "version": 3
   },
   "file_extension": ".py",
   "mimetype": "text/x-python",
   "name": "python",
   "nbconvert_exporter": "python",
   "pygments_lexer": "ipython3",
   "version": "3.8.3"
  }
 },
 "nbformat": 4,
 "nbformat_minor": 4
}
