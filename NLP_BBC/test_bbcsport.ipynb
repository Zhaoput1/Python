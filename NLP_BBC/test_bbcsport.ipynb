{
 "cells": [
  {
   "cell_type": "code",
   "execution_count": 1,
   "metadata": {},
   "outputs": [],
   "source": [
    "import numpy as np\n",
    "import tensorflow_datasets as tfds\n",
    "import tensorflow as tf\n",
    "tfds.disable_progress_bar()\n",
    "import collections\n",
    "import pathlib\n",
    "import re\n",
    "import string\n",
    "from tensorflow.keras import layers\n",
    "from tensorflow.keras import losses\n",
    "from tensorflow.keras import preprocessing\n",
    "from tensorflow.keras import utils\n",
    "from tensorflow.keras.layers.experimental.preprocessing import TextVectorization\n",
    "import matplotlib.pyplot as plt\n",
    "import tensorflow_text as tf_text\n",
    "from tensorflow import keras"
   ]
  },
  {
   "cell_type": "code",
   "execution_count": 2,
   "metadata": {},
   "outputs": [],
   "source": [
    "tfds.disable_progress_bar()\n",
    "\n",
    "def plot_graphs(history, metric):   #define a function to plot the history graph with accuracy and loss\n",
    "    plt.plot(history.history[metric])\n",
    "    plt.plot(history.history['val_'+metric], '')\n",
    "    plt.xlabel(\"Epochs\")\n",
    "    plt.ylabel(metric)\n",
    "    plt.legend([metric, 'val_'+metric])"
   ]
  },
  {
   "cell_type": "code",
   "execution_count": 3,
   "metadata": {},
   "outputs": [
    {
     "name": "stdout",
     "output_type": "stream",
     "text": [
      "Found 737 files belonging to 5 classes.\n",
      "Using 590 files for training.\n"
     ]
    }
   ],
   "source": [
    "#batch_size = 32\n",
    "seed = 42 #set seed\n",
    "\n",
    "train_dataset = preprocessing.text_dataset_from_directory( #separate the dataset to training dataset and test dataset\n",
    "    'bbcsport',\n",
    "#    batch_size=batch_size,\n",
    "    validation_split=0.2,\n",
    "    subset='training',\n",
    "    seed=seed)"
   ]
  },
  {
   "cell_type": "code",
   "execution_count": 4,
   "metadata": {},
   "outputs": [
    {
     "name": "stdout",
     "output_type": "stream",
     "text": [
      "Found 737 files belonging to 5 classes.\n",
      "Using 147 files for validation.\n"
     ]
    }
   ],
   "source": [
    "test_dataset = preprocessing.text_dataset_from_directory(\n",
    "    'bbcsport',\n",
    "#    batch_size=batch_size,\n",
    "    validation_split=.2,\n",
    "    subset='validation',\n",
    "    seed=seed)"
   ]
  },
  {
   "cell_type": "code",
   "execution_count": 5,
   "metadata": {},
   "outputs": [],
   "source": [
    "VOCAB_SIZE=5000   #set the size of the vocabulary lab \n",
    "#The raw text loaded by tfds needs to be processed before it can be used in a model. \n",
    "encoder = tf.keras.layers.experimental.preprocessing.TextVectorization( # experimental preprocessing\n",
    "    max_tokens=VOCAB_SIZE)\n",
    "encoder.adapt(train_dataset.map(lambda text, label: text)) #Create the layer, and pass the dataset's text to the layer's .adapt method\n",
    "vocab = np.array(encoder.get_vocabulary())"
   ]
  },
  {
   "cell_type": "code",
   "execution_count": 6,
   "metadata": {},
   "outputs": [],
   "source": [
    "model = tf.keras.Sequential([ #build the sequential\n",
    "    encoder,  #first encoder layer defined above\n",
    "    tf.keras.layers.Embedding(  # with 64 dim output\n",
    "        input_dim=len(encoder.get_vocabulary()),\n",
    "        output_dim=64,\n",
    "        # Use masking to handle the variable sequence lengths\n",
    "        mask_zero=True),\n",
    "    tf.keras.layers.Bidirectional(tf.keras.layers.LSTM(64)), #LSTM 64 dims\n",
    "    tf.keras.layers.Dense(64, activation='relu'),#64 cells with relu activation function\n",
    "    tf.keras.layers.Dense(5, activation='softmax') #5 dim output with softmax activation function\n",
    "])"
   ]
  },
  {
   "cell_type": "code",
   "execution_count": 7,
   "metadata": {},
   "outputs": [],
   "source": [
    "model.compile(loss='sparse_categorical_crossentropy', # loss function \n",
    "              optimizer=tf.keras.optimizers.Adam(learning_rate=0.001),  #optimizer with learning rate .001\n",
    "              metrics=['accuracy']) # metrics set to be accuracy"
   ]
  },
  {
   "cell_type": "code",
   "execution_count": 8,
   "metadata": {},
   "outputs": [],
   "source": [
    "earlystopping_cb = keras.callbacks.EarlyStopping (patience=10, restore_best_weights=True) # set callbacks"
   ]
  },
  {
   "cell_type": "code",
   "execution_count": 9,
   "metadata": {},
   "outputs": [
    {
     "name": "stdout",
     "output_type": "stream",
     "text": [
      "Epoch 1/50\n",
      "19/19 [==============================] - 12s 655ms/step - loss: 1.5636 - accuracy: 0.3627 - val_loss: 1.6363 - val_accuracy: 0.3401\n",
      "Epoch 2/50\n",
      "19/19 [==============================] - 10s 508ms/step - loss: 1.4374 - accuracy: 0.3661 - val_loss: 1.3720 - val_accuracy: 0.3401\n",
      "Epoch 3/50\n",
      "19/19 [==============================] - 10s 501ms/step - loss: 1.0298 - accuracy: 0.5576 - val_loss: 0.9006 - val_accuracy: 0.5918\n",
      "Epoch 4/50\n",
      "19/19 [==============================] - 9s 462ms/step - loss: 0.7900 - accuracy: 0.7136 - val_loss: 1.0391 - val_accuracy: 0.5034\n",
      "Epoch 5/50\n",
      "19/19 [==============================] - 10s 532ms/step - loss: 0.6926 - accuracy: 0.6898 - val_loss: 0.7892 - val_accuracy: 0.6259\n",
      "Epoch 6/50\n",
      "19/19 [==============================] - 10s 534ms/step - loss: 0.3587 - accuracy: 0.8627 - val_loss: 0.7281 - val_accuracy: 0.7551\n",
      "Epoch 7/50\n",
      "19/19 [==============================] - 9s 492ms/step - loss: 0.1412 - accuracy: 0.9780 - val_loss: 0.3068 - val_accuracy: 0.9048\n",
      "Epoch 8/50\n",
      "19/19 [==============================] - 9s 497ms/step - loss: 0.0439 - accuracy: 0.9898 - val_loss: 0.4403 - val_accuracy: 0.8095\n",
      "Epoch 9/50\n",
      "19/19 [==============================] - 10s 500ms/step - loss: 0.0396 - accuracy: 0.9966 - val_loss: 0.2599 - val_accuracy: 0.9388\n",
      "Epoch 10/50\n",
      "19/19 [==============================] - 10s 501ms/step - loss: 0.0138 - accuracy: 0.9983 - val_loss: 0.2105 - val_accuracy: 0.9456\n",
      "Epoch 11/50\n",
      "19/19 [==============================] - 10s 514ms/step - loss: 0.0047 - accuracy: 1.0000 - val_loss: 0.1901 - val_accuracy: 0.9388\n",
      "Epoch 12/50\n",
      "19/19 [==============================] - 9s 490ms/step - loss: 0.0026 - accuracy: 1.0000 - val_loss: 0.1911 - val_accuracy: 0.9388\n",
      "Epoch 13/50\n",
      "19/19 [==============================] - 9s 485ms/step - loss: 0.0019 - accuracy: 1.0000 - val_loss: 0.1928 - val_accuracy: 0.9388\n",
      "Epoch 14/50\n",
      "19/19 [==============================] - 9s 493ms/step - loss: 0.0015 - accuracy: 1.0000 - val_loss: 0.1925 - val_accuracy: 0.9388\n",
      "Epoch 15/50\n",
      "19/19 [==============================] - 9s 472ms/step - loss: 0.0012 - accuracy: 1.0000 - val_loss: 0.1925 - val_accuracy: 0.9388\n",
      "Epoch 16/50\n",
      "19/19 [==============================] - 8s 421ms/step - loss: 0.0010 - accuracy: 1.0000 - val_loss: 0.1964 - val_accuracy: 0.9320\n",
      "Epoch 17/50\n",
      "19/19 [==============================] - 9s 476ms/step - loss: 8.9608e-04 - accuracy: 1.0000 - val_loss: 0.1953 - val_accuracy: 0.9320\n",
      "Epoch 18/50\n",
      "19/19 [==============================] - 9s 472ms/step - loss: 7.8347e-04 - accuracy: 1.0000 - val_loss: 0.1960 - val_accuracy: 0.9252\n",
      "Epoch 19/50\n",
      "19/19 [==============================] - 9s 478ms/step - loss: 6.9220e-04 - accuracy: 1.0000 - val_loss: 0.1972 - val_accuracy: 0.9320\n",
      "Epoch 20/50\n",
      "19/19 [==============================] - 9s 486ms/step - loss: 6.1674e-04 - accuracy: 1.0000 - val_loss: 0.1979 - val_accuracy: 0.9252\n",
      "Epoch 21/50\n",
      "19/19 [==============================] - 10s 504ms/step - loss: 5.5611e-04 - accuracy: 1.0000 - val_loss: 0.1977 - val_accuracy: 0.9184\n"
     ]
    }
   ],
   "source": [
    "history = model.fit(train_dataset, epochs=50,  #training process epochs=50\n",
    "                    validation_data=test_dataset, \n",
    "                    validation_steps=5,\n",
    "                    callbacks=earlystopping_cb) #set callbacks"
   ]
  },
  {
   "cell_type": "code",
   "execution_count": 10,
   "metadata": {},
   "outputs": [
    {
     "name": "stdout",
     "output_type": "stream",
     "text": [
      "5/5 [==============================] - 0s 75ms/step - loss: 0.1901 - accuracy: 0.9388\n",
      "Test Loss: 0.1901320070028305\n",
      "Test Accuracy: 0.9387755393981934\n"
     ]
    }
   ],
   "source": [
    "test_loss, test_acc = model.evaluate(test_dataset)  #result evaluation \n",
    "\n",
    "print('Test Loss: {}'.format(test_loss))\n",
    "print('Test Accuracy: {}'.format(test_acc))"
   ]
  },
  {
   "cell_type": "code",
   "execution_count": 11,
   "metadata": {},
   "outputs": [
    {
     "data": {
      "text/plain": [
       "(0.0, 1.7180837809166405)"
      ]
     },
     "execution_count": 11,
     "metadata": {},
     "output_type": "execute_result"
    },
    {
     "data": {
      "image/png": "[encoded data removed]",
      "text/plain": [
       "<Figure size 1152x576 with 2 Axes>"
      ]
     },
     "metadata": {
      "needs_background": "light"
     },
     "output_type": "display_data"
    }
   ],
   "source": [
    "plt.figure(figsize=(16,8)) \n",
    "plt.subplot(1,2,1)\n",
    "plot_graphs(history, 'accuracy')\n",
    "plt.ylim(None,1)\n",
    "plt.subplot(1,2,2)\n",
    "plot_graphs(history, 'loss')\n",
    "plt.ylim(0,None)"
   ]
  },
  {
   "cell_type": "code",
   "execution_count": null,
   "metadata": {},
   "outputs": [],
   "source": []
  }
 ],
 "metadata": {
  "kernelspec": {
   "display_name": "Python 3",
   "language": "python",
   "name": "python3"
  },
  "language_info": {
   "codemirror_mode": {
    "name": "ipython",
    "version": 3
   },
   "file_extension": ".py",
   "mimetype": "text/x-python",
   "name": "python",
   "nbconvert_exporter": "python",
   "pygments_lexer": "ipython3",
   "version": "3.8.3"
  }
 },
 "nbformat": 4,
 "nbformat_minor": 4
}
