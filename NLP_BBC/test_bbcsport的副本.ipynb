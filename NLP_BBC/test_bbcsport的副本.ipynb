{
 "cells": [
  {
   "cell_type": "code",
   "execution_count": 1,
   "metadata": {},
   "outputs": [],
   "source": [
    "import numpy as np\n",
    "import tensorflow_datasets as tfds\n",
    "import tensorflow as tf\n",
    "tfds.disable_progress_bar()\n",
    "import collections\n",
    "import pathlib\n",
    "import re\n",
    "import string\n",
    "from tensorflow.keras import layers\n",
    "from tensorflow.keras import losses\n",
    "from tensorflow.keras import preprocessing\n",
    "from tensorflow.keras import utils\n",
    "from tensorflow.keras.layers.experimental.preprocessing import TextVectorization\n",
    "import matplotlib.pyplot as plt\n",
    "import tensorflow_text as tf_text\n",
    "from tensorflow import keras"
   ]
  },
  {
   "cell_type": "code",
   "execution_count": 2,
   "metadata": {},
   "outputs": [],
   "source": [
    "tfds.disable_progress_bar()\n",
    "\n",
    "def plot_graphs(history, metric):   #define a function to plot the history graph with accuracy and loss\n",
    "    plt.plot(history.history[metric])\n",
    "    plt.plot(history.history['val_'+metric], '')\n",
    "    plt.xlabel(\"Epochs\")\n",
    "    plt.ylabel(metric)\n",
    "    plt.legend([metric, 'val_'+metric])"
   ]
  },
  {
   "cell_type": "code",
   "execution_count": 3,
   "metadata": {},
   "outputs": [
    {
     "name": "stdout",
     "output_type": "stream",
     "text": [
      "Found 1000 files belonging to 10 classes.\n",
      "Using 800 files for training.\n"
     ]
    }
   ],
   "source": [
    "#batch_size = 32\n",
    "seed = 42 #set seed\n",
    "\n",
    "train_dataset = preprocessing.text_dataset_from_directory( #separate the dataset to training dataset and test dataset\n",
    "    'archive',\n",
    "#    batch_size=batch_size,\n",
    "    validation_split=0.2,\n",
    "    subset='training',\n",
    "    seed=seed)"
   ]
  },
  {
   "cell_type": "code",
   "execution_count": 4,
   "metadata": {},
   "outputs": [
    {
     "name": "stdout",
     "output_type": "stream",
     "text": [
      "Found 1000 files belonging to 10 classes.\n",
      "Using 200 files for validation.\n"
     ]
    }
   ],
   "source": [
    "test_dataset = preprocessing.text_dataset_from_directory(\n",
    "    'archive',\n",
    "#    batch_size=batch_size,\n",
    "    validation_split=.2,\n",
    "    subset='validation',\n",
    "    seed=seed)"
   ]
  },
  {
   "cell_type": "code",
   "execution_count": 5,
   "metadata": {},
   "outputs": [],
   "source": [
    "VOCAB_SIZE=5000   #set the size of the vocabulary lab \n",
    "#The raw text loaded by tfds needs to be processed before it can be used in a model. \n",
    "encoder = tf.keras.layers.experimental.preprocessing.TextVectorization( # experimental preprocessing\n",
    "    max_tokens=VOCAB_SIZE)\n",
    "encoder.adapt(train_dataset.map(lambda text, label: text)) #Create the layer, and pass the dataset's text to the layer's .adapt method\n",
    "vocab = np.array(encoder.get_vocabulary())"
   ]
  },
  {
   "cell_type": "code",
   "execution_count": 6,
   "metadata": {},
   "outputs": [],
   "source": [
    "model = tf.keras.Sequential([ #build the sequential\n",
    "    encoder,  #first encoder layer defined above\n",
    "    tf.keras.layers.Embedding(  # with 64 dim output\n",
    "        input_dim=len(encoder.get_vocabulary()),\n",
    "        output_dim=64,\n",
    "        # Use masking to handle the variable sequence lengths\n",
    "        mask_zero=True),\n",
    "    tf.keras.layers.Bidirectional(tf.keras.layers.LSTM(64)), #LSTM 64 dims\n",
    "    tf.keras.layers.Dense(64, activation='relu'),#64 cells with relu activation function\n",
    "    tf.keras.layers.Dense(10, activation='softmax') #5 dim output with softmax activation function\n",
    "])"
   ]
  },
  {
   "cell_type": "code",
   "execution_count": 7,
   "metadata": {},
   "outputs": [],
   "source": [
    "model.compile(loss='sparse_categorical_crossentropy', # loss function \n",
    "              optimizer=tf.keras.optimizers.Adam(learning_rate=0.001),  #optimizer with learning rate .001\n",
    "              metrics=['accuracy']) # metrics set to be accuracy"
   ]
  },
  {
   "cell_type": "code",
   "execution_count": 8,
   "metadata": {},
   "outputs": [],
   "source": [
    "earlystopping_cb = keras.callbacks.EarlyStopping (patience=10, restore_best_weights=True) # set callbacks"
   ]
  },
  {
   "cell_type": "code",
   "execution_count": 9,
   "metadata": {
    "scrolled": true
   },
   "outputs": [
    {
     "name": "stdout",
     "output_type": "stream",
     "text": [
      "Epoch 1/50\n",
      "25/25 [==============================] - 42s 2s/step - loss: 2.2941 - accuracy: 0.1663 - val_loss: 2.2780 - val_accuracy: 0.2375\n",
      "Epoch 2/50\n",
      "25/25 [==============================] - 36s 1s/step - loss: 2.1467 - accuracy: 0.3750 - val_loss: 1.9547 - val_accuracy: 0.3313\n",
      "Epoch 3/50\n",
      "25/25 [==============================] - 41s 2s/step - loss: 1.7230 - accuracy: 0.3638 - val_loss: 1.6198 - val_accuracy: 0.3688\n",
      "Epoch 4/50\n",
      "25/25 [==============================] - 38s 2s/step - loss: 1.3173 - accuracy: 0.4638 - val_loss: 1.3532 - val_accuracy: 0.4625\n",
      "Epoch 5/50\n",
      "25/25 [==============================] - 41s 2s/step - loss: 1.0952 - accuracy: 0.5775 - val_loss: 1.1344 - val_accuracy: 0.5188\n",
      "Epoch 6/50\n",
      "25/25 [==============================] - 37s 1s/step - loss: 1.0613 - accuracy: 0.5763 - val_loss: 1.1824 - val_accuracy: 0.4875\n",
      "Epoch 7/50\n",
      "25/25 [==============================] - 38s 2s/step - loss: 0.8969 - accuracy: 0.6288 - val_loss: 0.9941 - val_accuracy: 0.6500\n",
      "Epoch 8/50\n",
      "25/25 [==============================] - 39s 2s/step - loss: 0.6397 - accuracy: 0.8150 - val_loss: 0.7449 - val_accuracy: 0.7812\n",
      "Epoch 9/50\n",
      "25/25 [==============================] - 37s 1s/step - loss: 0.3859 - accuracy: 0.9287 - val_loss: 0.6989 - val_accuracy: 0.7688\n",
      "Epoch 10/50\n",
      "25/25 [==============================] - 42s 2s/step - loss: 0.2051 - accuracy: 0.9675 - val_loss: 0.7842 - val_accuracy: 0.8000\n",
      "Epoch 11/50\n",
      "25/25 [==============================] - 41s 2s/step - loss: 0.1031 - accuracy: 0.9862 - val_loss: 0.5846 - val_accuracy: 0.8000\n",
      "Epoch 12/50\n",
      "25/25 [==============================] - 38s 2s/step - loss: 0.0469 - accuracy: 0.9962 - val_loss: 0.6117 - val_accuracy: 0.8000\n",
      "Epoch 13/50\n",
      "25/25 [==============================] - 36s 1s/step - loss: 0.0419 - accuracy: 0.9950 - val_loss: 0.6368 - val_accuracy: 0.7875\n",
      "Epoch 14/50\n",
      "25/25 [==============================] - 37s 1s/step - loss: 0.0765 - accuracy: 0.9887 - val_loss: 0.6122 - val_accuracy: 0.8000\n",
      "Epoch 15/50\n",
      "25/25 [==============================] - 41s 2s/step - loss: 0.0260 - accuracy: 1.0000 - val_loss: 0.5884 - val_accuracy: 0.8250\n",
      "Epoch 16/50\n",
      "25/25 [==============================] - 40s 2s/step - loss: 0.0110 - accuracy: 1.0000 - val_loss: 0.5728 - val_accuracy: 0.8062\n",
      "Epoch 17/50\n",
      "25/25 [==============================] - 34s 1s/step - loss: 0.0069 - accuracy: 1.0000 - val_loss: 0.5363 - val_accuracy: 0.8375\n",
      "Epoch 18/50\n",
      "25/25 [==============================] - 37s 1s/step - loss: 0.0049 - accuracy: 1.0000 - val_loss: 0.6088 - val_accuracy: 0.8375\n",
      "Epoch 19/50\n",
      "25/25 [==============================] - 35s 1s/step - loss: 0.0039 - accuracy: 1.0000 - val_loss: 0.5423 - val_accuracy: 0.8438\n",
      "Epoch 20/50\n",
      "25/25 [==============================] - 38s 2s/step - loss: 0.0033 - accuracy: 1.0000 - val_loss: 0.5573 - val_accuracy: 0.8687\n",
      "Epoch 21/50\n",
      "25/25 [==============================] - 33s 1s/step - loss: 0.0028 - accuracy: 1.0000 - val_loss: 0.6089 - val_accuracy: 0.8438\n",
      "Epoch 22/50\n",
      "25/25 [==============================] - 41s 2s/step - loss: 0.0024 - accuracy: 1.0000 - val_loss: 0.5556 - val_accuracy: 0.8625\n",
      "Epoch 23/50\n",
      "25/25 [==============================] - 42s 2s/step - loss: 0.0021 - accuracy: 1.0000 - val_loss: 0.5985 - val_accuracy: 0.8438\n",
      "Epoch 24/50\n",
      "25/25 [==============================] - 41s 2s/step - loss: 0.0019 - accuracy: 1.0000 - val_loss: 0.6724 - val_accuracy: 0.8313\n",
      "Epoch 25/50\n",
      "25/25 [==============================] - 40s 2s/step - loss: 0.0017 - accuracy: 1.0000 - val_loss: 0.6236 - val_accuracy: 0.8375\n",
      "Epoch 26/50\n",
      "25/25 [==============================] - 43s 2s/step - loss: 0.0015 - accuracy: 1.0000 - val_loss: 0.6415 - val_accuracy: 0.8438\n",
      "Epoch 27/50\n",
      "25/25 [==============================] - 42s 2s/step - loss: 0.0014 - accuracy: 1.0000 - val_loss: 0.5730 - val_accuracy: 0.8500\n"
     ]
    }
   ],
   "source": [
    "history = model.fit(train_dataset, epochs=50,  #training process epochs=50\n",
    "                    validation_data=test_dataset, \n",
    "                    validation_steps=5,\n",
    "                    callbacks=earlystopping_cb) #set callbacks"
   ]
  },
  {
   "cell_type": "code",
   "execution_count": 10,
   "metadata": {},
   "outputs": [
    {
     "name": "stdout",
     "output_type": "stream",
     "text": [
      "7/7 [==============================] - 2s 257ms/step - loss: 0.5610 - accuracy: 0.8350\n",
      "Test Loss: 0.5610285401344299\n",
      "Test Accuracy: 0.8349999785423279\n"
     ]
    }
   ],
   "source": [
    "test_loss, test_acc = model.evaluate(test_dataset)  #result evaluation \n",
    "\n",
    "print('Test Loss: {}'.format(test_loss))\n",
    "print('Test Accuracy: {}'.format(test_acc))"
   ]
  },
  {
   "cell_type": "code",
   "execution_count": 11,
   "metadata": {},
   "outputs": [
    {
     "data": {
      "text/plain": [
       "(0.0, 2.4087144371995235)"
      ]
     },
     "execution_count": 11,
     "metadata": {},
     "output_type": "execute_result"
    },
    {
     "data": {
      "image/png": "[encoded data removed]",
      "text/plain": [
       "<Figure size 1152x576 with 2 Axes>"
      ]
     },
     "metadata": {
      "needs_background": "light"
     },
     "output_type": "display_data"
    }
   ],
   "source": [
    "plt.figure(figsize=(16,8)) \n",
    "plt.subplot(1,2,1)\n",
    "plot_graphs(history, 'accuracy')\n",
    "plt.ylim(None,1)\n",
    "plt.subplot(1,2,2)\n",
    "plot_graphs(history, 'loss')\n",
    "plt.ylim(0,None)"
   ]
  },
  {
   "cell_type": "code",
   "execution_count": null,
   "metadata": {},
   "outputs": [],
   "source": []
  }
 ],
 "metadata": {
  "kernelspec": {
   "display_name": "Python 3",
   "language": "python",
   "name": "python3"
  },
  "language_info": {
   "codemirror_mode": {
    "name": "ipython",
    "version": 3
   },
   "file_extension": ".py",
   "mimetype": "text/x-python",
   "name": "python",
   "nbconvert_exporter": "python",
   "pygments_lexer": "ipython3",
   "version": "3.8.3"
  }
 },
 "nbformat": 4,
 "nbformat_minor": 4
}
