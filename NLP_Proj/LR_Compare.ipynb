{
 "cells": [
  {
   "cell_type": "code",
   "execution_count": 1,
   "metadata": {},
   "outputs": [],
   "source": [
    "import sys\n",
    "import re\n",
    "import numpy as np\n",
    "from numpy import dot\n",
    "from numpy.linalg import norm\n",
    "from pyspark import SparkContext\n",
    "from pyspark.sql.functions import *\n",
    "from pyspark.sql.types import *\n",
    "import numpy as np\n",
    "from pyspark.ml.linalg import SparseVector, DenseVector\n",
    "from pyspark.ml.linalg import Vectors, VectorUDT\n",
    "from operator import add"
   ]
  },
  {
   "cell_type": "code",
   "execution_count": 2,
   "metadata": {},
   "outputs": [],
   "source": [
    "df = spark.read.option('header',True).csv('news.csv')\\\n",
    "    .drop('Title')\n"
   ]
  },
  {
   "cell_type": "code",
   "execution_count": 3,
   "metadata": {},
   "outputs": [],
   "source": [
    "pn_udf = udf(lambda x: int(x), IntegerType() )\n",
    "dfl = df.withColumn('label',pn_udf('Class')).drop('Class')"
   ]
  },
  {
   "cell_type": "code",
   "execution_count": 4,
   "metadata": {},
   "outputs": [],
   "source": [
    "df_l = dfl.selectExpr(\"label as label\",\"Description as text\")"
   ]
  },
  {
   "cell_type": "code",
   "execution_count": 5,
   "metadata": {},
   "outputs": [],
   "source": [
    "from pyspark.ml.feature import HashingTF,IDF,Tokenizer\n",
    "dim = 20000\n",
    "tokenizer = Tokenizer(inputCol = 'text', outputCol = 'words')\n",
    "wordsData = tokenizer.transform(df_l)"
   ]
  },
  {
   "cell_type": "code",
   "execution_count": 6,
   "metadata": {},
   "outputs": [],
   "source": [
    "hashingTF = HashingTF(inputCol=\"words\", outputCol=\"rawFeatures\", numFeatures=dim)\n",
    "featurizedData = hashingTF.transform(wordsData)"
   ]
  },
  {
   "cell_type": "code",
   "execution_count": 7,
   "metadata": {},
   "outputs": [],
   "source": [
    "idf = IDF(inputCol=\"rawFeatures\", outputCol=\"features\")\n",
    "idfModel = idf.fit(featurizedData)"
   ]
  },
  {
   "cell_type": "code",
   "execution_count": 8,
   "metadata": {},
   "outputs": [],
   "source": [
    "rescaledData = idfModel.transform(featurizedData)\n",
    "tfifd = rescaledData.select(\"label\", \"features\")"
   ]
  },
  {
   "cell_type": "code",
   "execution_count": 9,
   "metadata": {},
   "outputs": [],
   "source": [
    "df_train, df_test = tfifd.randomSplit([.7, .3])"
   ]
  },
  {
   "cell_type": "code",
   "execution_count": 10,
   "metadata": {},
   "outputs": [],
   "source": [
    "from pyspark.ml.classification import LogisticRegression\n",
    "\n",
    "lr = LogisticRegression(maxIter=100)\n",
    "model = lr.fit(df_train)\n",
    "predictions = model.transform(df_test)"
   ]
  },
  {
   "cell_type": "code",
   "execution_count": 11,
   "metadata": {},
   "outputs": [],
   "source": [
    "result = predictions.select('label','prediction').collect()\n",
    "y = []\n",
    "y_pred = []\n",
    "\n",
    "for i in result:\n",
    "    y.append(i[0])\n",
    "    y_pred.append(i[1])"
   ]
  },
  {
   "cell_type": "code",
   "execution_count": 12,
   "metadata": {},
   "outputs": [
    {
     "name": "stdout",
     "output_type": "stream",
     "text": [
      "confusion matrix is \n",
      "[[7314  372  629  595]\n",
      " [ 394 8083  217  261]\n",
      " [ 593  149 7051 1136]\n",
      " [ 572  202 1278 7063]]\n",
      "accuracy is:\n",
      "0.8218273970313849\n",
      "f1 score is:\n",
      "              precision    recall  f1-score   support\n",
      "\n",
      "           1       0.82      0.82      0.82      8910\n",
      "           2       0.92      0.90      0.91      8955\n",
      "           3       0.77      0.79      0.78      8929\n",
      "           4       0.78      0.77      0.78      9115\n",
      "\n",
      "    accuracy                           0.82     35909\n",
      "   macro avg       0.82      0.82      0.82     35909\n",
      "weighted avg       0.82      0.82      0.82     35909\n",
      "\n"
     ]
    }
   ],
   "source": [
    "from sklearn.metrics import confusion_matrix, accuracy_score, classification_report\n",
    "conf = confusion_matrix(y, y_pred)\n",
    "print('confusion matrix is ')\n",
    "print(conf)\n",
    "print('accuracy is:')\n",
    "print(accuracy_score(y, y_pred))\n",
    "print('f1 score is:')\n",
    "print(classification_report(y, y_pred))"
   ]
  },
  {
   "cell_type": "code",
   "execution_count": null,
   "metadata": {},
   "outputs": [],
   "source": []
  }
 ],
 "metadata": {
  "kernelspec": {
   "display_name": "Python 3",
   "language": "python",
   "name": "python3"
  },
  "language_info": {
   "codemirror_mode": {
    "name": "ipython",
    "version": 3
   },
   "file_extension": ".py",
   "mimetype": "text/x-python",
   "name": "python",
   "nbconvert_exporter": "python",
   "pygments_lexer": "ipython3",
   "version": "3.8.3"
  }
 },
 "nbformat": 4,
 "nbformat_minor": 4
}
