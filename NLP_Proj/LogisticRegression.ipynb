{
 "cells": [
  {
   "cell_type": "code",
   "execution_count": 1,
   "metadata": {},
   "outputs": [],
   "source": [
    "import sys\n",
    "import re\n",
    "import numpy as np\n",
    "from numpy import dot\n",
    "from numpy.linalg import norm\n",
    "from pyspark import SparkContext\n",
    "from pyspark.sql.functions import *\n",
    "from pyspark.sql.types import *\n",
    "import numpy as np\n",
    "from pyspark.ml.linalg import SparseVector, DenseVector\n",
    "from pyspark.ml.linalg import Vectors, VectorUDT\n",
    "from operator import add"
   ]
  },
  {
   "cell_type": "code",
   "execution_count": 2,
   "metadata": {},
   "outputs": [],
   "source": [
    "File = 'Books_5.json'\n",
    "df = spark.read.json(File)"
   ]
  },
  {
   "cell_type": "code",
   "execution_count": 3,
   "metadata": {},
   "outputs": [
    {
     "data": {
      "text/plain": [
       "8898041"
      ]
     },
     "execution_count": 3,
     "metadata": {},
     "output_type": "execute_result"
    }
   ],
   "source": [
    "df.count()"
   ]
  },
  {
   "cell_type": "code",
   "execution_count": 3,
   "metadata": {},
   "outputs": [],
   "source": [
    "df_full = df.drop('asin').drop('helpful').drop('reviewTime').\\\n",
    "                drop('reviewerID').drop('reviewerName').drop('summary').drop('unixReviewTime')"
   ]
  },
  {
   "cell_type": "code",
   "execution_count": 4,
   "metadata": {},
   "outputs": [],
   "source": [
    "pn_udf = udf(lambda x: 1 if x >=4 else 0, IntegerType())\n",
    "df_full_l = df_full.withColumn('label',pn_udf('overall')).drop('overall')"
   ]
  },
  {
   "cell_type": "code",
   "execution_count": 5,
   "metadata": {},
   "outputs": [
    {
     "name": "stdout",
     "output_type": "stream",
     "text": [
      "+--------------------+-----+\n",
      "|          reviewText|label|\n",
      "+--------------------+-----+\n",
      "|Spiritually and m...|    1|\n",
      "|This is one my mu...|    1|\n",
      "|This book provide...|    1|\n",
      "|I first read THE ...|    1|\n",
      "|A timeless classi...|    1|\n",
      "|Reading this made...|    1|\n",
      "|As you read, Gibr...|    1|\n",
      "|Deep, moving dram...|    1|\n",
      "|This is a timeles...|    1|\n",
      "|An amazing work. ...|    1|\n",
      "|I LOVE this book....|    1|\n",
      "|This book has bee...|    1|\n",
      "|This book has so ...|    1|\n",
      "|When I was in col...|    1|\n",
      "|I discovered The ...|    1|\n",
      "|Can't say enough ...|    1|\n",
      "|I have the 1972 v...|    1|\n",
      "|Anything I've rea...|    1|\n",
      "|Cool book, I real...|    1|\n",
      "|This book is ever...|    1|\n",
      "+--------------------+-----+\n",
      "only showing top 20 rows\n",
      "\n"
     ]
    }
   ],
   "source": [
    "df_full_l.show()"
   ]
  },
  {
   "cell_type": "code",
   "execution_count": 6,
   "metadata": {},
   "outputs": [],
   "source": [
    "from pyspark.ml.feature import HashingTF,IDF,Tokenizer\n",
    "dim = 20000\n",
    "tokenizer = Tokenizer(inputCol = 'reviewText', outputCol = 'words')\n",
    "wordsData = tokenizer.transform(df_full_l)"
   ]
  },
  {
   "cell_type": "code",
   "execution_count": 7,
   "metadata": {},
   "outputs": [],
   "source": [
    "hashingTF = HashingTF(inputCol=\"words\", outputCol=\"rawFeatures\", numFeatures=dim)\n",
    "featurizedData = hashingTF.transform(wordsData)"
   ]
  },
  {
   "cell_type": "code",
   "execution_count": 8,
   "metadata": {},
   "outputs": [],
   "source": [
    "idf = IDF(inputCol=\"rawFeatures\", outputCol=\"features\")\n",
    "idfModel = idf.fit(featurizedData)"
   ]
  },
  {
   "cell_type": "code",
   "execution_count": 9,
   "metadata": {},
   "outputs": [],
   "source": [
    "rescaledData = idfModel.transform(featurizedData)\n",
    "tfifd = rescaledData.select(\"label\", \"features\")"
   ]
  },
  {
   "cell_type": "code",
   "execution_count": 10,
   "metadata": {},
   "outputs": [],
   "source": [
    "df_train, df_test = tfifd.randomSplit([.7, .3])"
   ]
  },
  {
   "cell_type": "code",
   "execution_count": 11,
   "metadata": {},
   "outputs": [],
   "source": [
    "from pyspark.ml.classification import LogisticRegression\n",
    "\n",
    "lr = LogisticRegression(maxIter=100)\n",
    "model = lr.fit(df_train)\n",
    "predictions = model.transform(df_test)"
   ]
  },
  {
   "cell_type": "code",
   "execution_count": 12,
   "metadata": {},
   "outputs": [],
   "source": [
    "result = predictions.select('label','prediction').collect()\n",
    "y = []\n",
    "y_pred = []\n",
    "\n",
    "for i in result:\n",
    "    y.append(i[0])\n",
    "    y_pred.append(i[1])"
   ]
  },
  {
   "cell_type": "code",
   "execution_count": 16,
   "metadata": {},
   "outputs": [
    {
     "name": "stdout",
     "output_type": "stream",
     "text": [
      "confusion matrix is \n",
      "[[ 252983  255258]\n",
      " [  71518 2087564]]\n",
      "accuracy is:\n",
      "0.8774891529822223\n",
      "f1 score is:\n",
      "0.9274138231290583\n"
     ]
    }
   ],
   "source": [
    "from sklearn.metrics import confusion_matrix, accuracy_score, f1_score\n",
    "conf = confusion_matrix(y, y_pred)\n",
    "print('confusion matrix is ')\n",
    "print(conf)\n",
    "print('accuracy is:')\n",
    "print(accuracy_score(y, y_pred))\n",
    "print('f1 score is:')\n",
    "print(f1_score(y, y_pred))"
   ]
  },
  {
   "cell_type": "code",
   "execution_count": null,
   "metadata": {},
   "outputs": [],
   "source": []
  }
 ],
 "metadata": {
  "kernelspec": {
   "display_name": "Python 3",
   "language": "python",
   "name": "python3"
  },
  "language_info": {
   "codemirror_mode": {
    "name": "ipython",
    "version": 3
   },
   "file_extension": ".py",
   "mimetype": "text/x-python",
   "name": "python",
   "nbconvert_exporter": "python",
   "pygments_lexer": "ipython3",
   "version": "3.8.3"
  }
 },
 "nbformat": 4,
 "nbformat_minor": 4
}
