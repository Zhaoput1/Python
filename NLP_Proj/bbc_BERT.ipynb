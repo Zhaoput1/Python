{
 "cells": [
  {
   "cell_type": "code",
   "execution_count": null,
   "metadata": {
    "colab": {
     "base_uri": "https://localhost:8080/"
    },
    "id": "spU4Ak7zpU6P",
    "outputId": "06e5d373-edb9-42df-efb6-12141eb8b3fb"
   },
   "outputs": [
    {
     "name": "stdout",
     "output_type": "stream",
     "text": [
      "openjdk version \"1.8.0_275\"\n",
      "OpenJDK Runtime Environment (build 1.8.0_275-8u275-b01-0ubuntu1~18.04-b01)\n",
      "OpenJDK 64-Bit Server VM (build 25.275-b01, mixed mode)\n",
      "Collecting pyspark==2.4.4\n",
      "\u001b[?25l  Downloading https://files.pythonhosted.org/packages/87/21/f05c186f4ddb01d15d0ddc36ef4b7e3cedbeb6412274a41f26b55a650ee5/pyspark-2.4.4.tar.gz (215.7MB)\n",
      "\u001b[K     |████████████████████████████████| 215.7MB 30kB/s \n",
      "\u001b[?25hCollecting py4j==0.10.7\n",
      "\u001b[?25l  Downloading https://files.pythonhosted.org/packages/e3/53/c737818eb9a7dc32a7cd4f1396e787bd94200c3997c72c1dbe028587bd76/py4j-0.10.7-py2.py3-none-any.whl (197kB)\n",
      "\u001b[K     |████████████████████████████████| 204kB 41.4MB/s \n",
      "\u001b[?25hBuilding wheels for collected packages: pyspark\n",
      "  Building wheel for pyspark (setup.py) ... \u001b[?25l\u001b[?25hdone\n",
      "  Created wheel for pyspark: filename=pyspark-2.4.4-py2.py3-none-any.whl size=216130389 sha256=d12ae20410104192d76fdcdb936b4997cc8fa05ad29896e816bff7d85b32dc94\n",
      "  Stored in directory: /root/.cache/pip/wheels/ab/09/4d/0d184230058e654eb1b04467dbc1292f00eaa186544604b471\n",
      "Successfully built pyspark\n",
      "Installing collected packages: py4j, pyspark\n",
      "Successfully installed py4j-0.10.7 pyspark-2.4.4\n",
      "Collecting spark-nlp==2.5.0\n",
      "\u001b[?25l  Downloading https://files.pythonhosted.org/packages/75/b0/f50d169c49f5982f8be9e86e285b53e23f91fd7db0d10646c2d1de5c3ad0/spark_nlp-2.5.0-py2.py3-none-any.whl (120kB)\n",
      "\u001b[K     |████████████████████████████████| 122kB 4.2MB/s \n",
      "\u001b[?25hInstalling collected packages: spark-nlp\n",
      "Successfully installed spark-nlp-2.5.0\n"
     ]
    }
   ],
   "source": [
    "import os\n",
    "\n",
    "# Install java\n",
    "! apt-get update -qq\n",
    "! apt-get install -y openjdk-8-jdk-headless -qq > /dev/null\n",
    "\n",
    "os.environ[\"JAVA_HOME\"] = \"/usr/lib/jvm/java-8-openjdk-amd64\"\n",
    "os.environ[\"PATH\"] = os.environ[\"JAVA_HOME\"] + \"/bin:\" + os.environ[\"PATH\"]\n",
    "! java -version\n",
    "\n",
    "# Install pyspark\n",
    "! pip install --ignore-installed pyspark==2.4.4\n",
    "\n",
    "# Install Spark NLP\n",
    "! pip install --ignore-installed spark-nlp==2.5.0"
   ]
  },
  {
   "cell_type": "code",
   "execution_count": null,
   "metadata": {
    "colab": {
     "base_uri": "https://localhost:8080/"
    },
    "id": "8dOe0O4epi_J",
    "outputId": "16db45f7-7384-4178-e2f2-4cfc710b70b2"
   },
   "outputs": [
    {
     "name": "stdout",
     "output_type": "stream",
     "text": [
      "Spark NLP version:  2.5.0\n",
      "Apache Spark version:  2.4.4\n"
     ]
    }
   ],
   "source": [
    "import sparknlp \n",
    "\n",
    "spark = sparknlp.start()\n",
    "\n",
    "print(\"Spark NLP version: \", sparknlp.version())\n",
    "print(\"Apache Spark version: \", spark.version)"
   ]
  },
  {
   "cell_type": "code",
   "execution_count": null,
   "metadata": {
    "colab": {
     "base_uri": "https://localhost:8080/"
    },
    "id": "va-GtoiEtKXm",
    "outputId": "a526fc21-2ad2-4e6c-9be4-f406980c939f"
   },
   "outputs": [
    {
     "name": "stdout",
     "output_type": "stream",
     "text": [
      "Mounted at /content/drive\n"
     ]
    }
   ],
   "source": [
    "from google.colab import drive\n",
    "drive.mount('/content/drive')\n"
   ]
  },
  {
   "cell_type": "code",
   "execution_count": null,
   "metadata": {
    "id": "-YYfGPmVtcPW"
   },
   "outputs": [],
   "source": [
    "Dataset = spark.read.option(\"header\", True).csv('drive/My Drive/bbc-text.csv')"
   ]
  },
  {
   "cell_type": "code",
   "execution_count": null,
   "metadata": {
    "colab": {
     "base_uri": "https://localhost:8080/"
    },
    "id": "l36I0ZypvkZT",
    "outputId": "342c1f4a-4dff-47ff-99bb-6fc5a577c559"
   },
   "outputs": [
    {
     "name": "stdout",
     "output_type": "stream",
     "text": [
      "+-------------+--------------------+\n",
      "|     category|                text|\n",
      "+-------------+--------------------+\n",
      "|         tech|tv future in the ...|\n",
      "|     business|worldcom boss  le...|\n",
      "|        sport|tigers wary of fa...|\n",
      "|        sport|yeading face newc...|\n",
      "|entertainment|ocean s twelve ra...|\n",
      "|     politics|howard hits back ...|\n",
      "|     politics|blair prepares to...|\n",
      "|        sport|henman hopes ende...|\n",
      "|        sport|wilkinson fit to ...|\n",
      "|entertainment|last star wars  n...|\n",
      "+-------------+--------------------+\n",
      "only showing top 10 rows\n",
      "\n"
     ]
    }
   ],
   "source": [
    "Dataset.show(10)"
   ]
  },
  {
   "cell_type": "code",
   "execution_count": null,
   "metadata": {
    "id": "xOO0VaEObkSQ"
   },
   "outputs": [],
   "source": [
    "df_train, df_test = Dataset.randomSplit([.7, .3])"
   ]
  },
  {
   "cell_type": "code",
   "execution_count": null,
   "metadata": {
    "colab": {
     "base_uri": "https://localhost:8080/"
    },
    "id": "xXQyZYT5bp8b",
    "outputId": "84c96072-5c4c-416b-8a38-50bd3f43fed8"
   },
   "outputs": [
    {
     "name": "stdout",
     "output_type": "stream",
     "text": [
      "+--------+--------------------+\n",
      "|category|                text|\n",
      "+--------+--------------------+\n",
      "|business|absa and barclays...|\n",
      "|business|aids and climate ...|\n",
      "|business|alfa romeos  to g...|\n",
      "|business|algeria hit by fu...|\n",
      "|business|amex shares up on...|\n",
      "+--------+--------------------+\n",
      "only showing top 5 rows\n",
      "\n"
     ]
    }
   ],
   "source": [
    "df_train.show(5)"
   ]
  },
  {
   "cell_type": "code",
   "execution_count": null,
   "metadata": {
    "id": "GpA2WKQQa-5P"
   },
   "outputs": [],
   "source": [
    "from sparknlp.base import *\n",
    "from sparknlp.annotator import *\n",
    "from pyspark.ml import Pipeline\n",
    "import pandas as pd\n"
   ]
  },
  {
   "cell_type": "code",
   "execution_count": null,
   "metadata": {
    "colab": {
     "base_uri": "https://localhost:8080/"
    },
    "id": "iAQgYZqp3TYh",
    "outputId": "031fb983-cfac-4a5b-96f8-9163be371677"
   },
   "outputs": [
    {
     "name": "stdout",
     "output_type": "stream",
     "text": [
      "lemma_antbnc download started this may take some time.\n",
      "Approximate size to download 907.6 KB\n",
      "[OK!]\n",
      "bert_base_cased download started this may take some time.\n",
      "Approximate size to download 389.2 MB\n",
      "[OK!]\n"
     ]
    }
   ],
   "source": [
    "document_assembler = DocumentAssembler().setInputCol('text').setOutputCol('document')\n",
    "tokenizer = Tokenizer()\\\n",
    "  .setInputCols(['document'])\\\n",
    "  .setOutputCol('token')\n",
    "normalizer = Normalizer()\\\n",
    "  .setInputCols(['token'])\\\n",
    "  .setOutputCol('normalized')\n",
    "stopwords_cleaner = StopWordsCleaner()\\\n",
    "  .setInputCols(['normalized'])\\\n",
    "  .setOutputCol('cleanTokens')\\\n",
    "  .setCaseSensitive(False)\n",
    "lemma = LemmatizerModel.pretrained('lemma_antbnc')\\\n",
    "  .setInputCols(['cleanTokens'])\\\n",
    "  .setOutputCol('lemma')\n",
    "word_embeddings = BertEmbeddings\\\n",
    "  .pretrained('bert_base_cased','en')\\\n",
    "  .setInputCols(['document','lemma'])\\\n",
    "  .setOutputCol(\"embeddings\")\\\n",
    "  .setCaseSensitive(False)\n",
    "embeddingsSentence = SentenceEmbeddings()\\\n",
    "  .setInputCols(['document','embeddings'])\\\n",
    "  .setOutputCol(\"sentence_embeddings\")\\\n",
    "  .setPoolingStrategy('AVERAGE')\n",
    "classifierdl = ClassifierDLApproach()\\\n",
    "  .setInputCols(['sentence_embeddings'])\\\n",
    "  .setOutputCol('class')\\\n",
    "  .setLabelColumn('category')\\\n",
    "  .setMaxEpochs(5)\\\n",
    "  .setEnableOutputLogs(True)\n",
    "bert_pipeline = Pipeline(\n",
    "    stages=[document_assembler,\n",
    "            tokenizer,\n",
    "            normalizer,\n",
    "            stopwords_cleaner,\n",
    "            lemma,\n",
    "            word_embeddings,\n",
    "            embeddingsSentence,\n",
    "            classifierdl,\n",
    "    ]\n",
    ")\n"
   ]
  },
  {
   "cell_type": "code",
   "execution_count": null,
   "metadata": {
    "id": "zzNlyulA6Qw7"
   },
   "outputs": [],
   "source": [
    "bert_pipelineModel = bert_pipeline.fit(df_train)"
   ]
  },
  {
   "cell_type": "code",
   "execution_count": null,
   "metadata": {
    "colab": {
     "base_uri": "https://localhost:8080/"
    },
    "id": "uZ2oNvd76UxU",
    "outputId": "05534a9e-f6ca-4e08-fcb7-29e0271194b5"
   },
   "outputs": [
    {
     "name": "stdout",
     "output_type": "stream",
     "text": [
      "               precision    recall  f1-score   support\n",
      "\n",
      "     business       0.96      0.96      0.96       153\n",
      "entertainment       0.93      0.94      0.94       109\n",
      "     politics       0.94      0.94      0.94       109\n",
      "        sport       0.98      0.99      0.99       153\n",
      "         tech       0.96      0.92      0.94       116\n",
      "\n",
      "     accuracy                           0.96       640\n",
      "    macro avg       0.95      0.95      0.95       640\n",
      " weighted avg       0.96      0.96      0.96       640\n",
      "\n",
      "0.95625\n"
     ]
    }
   ],
   "source": [
    "from sklearn.metrics import classification_report, accuracy_score\n",
    "df = bert_pipelineModel.transform(df_test).select('category','text','class.result').toPandas()\n",
    "df['result'] = df['result'].apply(lambda x: x[0])\n",
    "\n",
    "print(classification_report(df.category, df.result))\n",
    "print(accuracy_score(df.category, df.result))"
   ]
  }
 ],
 "metadata": {
  "colab": {
   "name": "sparknlptest.ipynb",
   "provenance": []
  },
  "kernelspec": {
   "display_name": "Python 3",
   "language": "python",
   "name": "python3"
  },
  "language_info": {
   "codemirror_mode": {
    "name": "ipython",
    "version": 3
   },
   "file_extension": ".py",
   "mimetype": "text/x-python",
   "name": "python",
   "nbconvert_exporter": "python",
   "pygments_lexer": "ipython3",
   "version": "3.8.3"
  }
 },
 "nbformat": 4,
 "nbformat_minor": 1
}
